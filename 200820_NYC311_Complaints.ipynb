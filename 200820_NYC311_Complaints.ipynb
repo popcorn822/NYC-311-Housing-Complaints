{
 "cells": [
  {
   "cell_type": "code",
   "execution_count": 1,
   "metadata": {},
   "outputs": [],
   "source": [
    "import numpy as np\n",
    "import pandas as pd \n",
    "import seaborn as sns \n",
    "import matplotlib.pyplot as plt\n",
    "%matplotlib inline "
   ]
  },
  {
   "cell_type": "code",
   "execution_count": 2,
   "metadata": {},
   "outputs": [],
   "source": [
    "df_311 = pd.read_csv('fhrw-4uyv.csv')"
   ]
  },
  {
   "cell_type": "code",
   "execution_count": 3,
   "metadata": {},
   "outputs": [
    {
     "data": {
      "text/html": [
       "<div>\n",
       "<style scoped>\n",
       "    .dataframe tbody tr th:only-of-type {\n",
       "        vertical-align: middle;\n",
       "    }\n",
       "\n",
       "    .dataframe tbody tr th {\n",
       "        vertical-align: top;\n",
       "    }\n",
       "\n",
       "    .dataframe thead th {\n",
       "        text-align: right;\n",
       "    }\n",
       "</style>\n",
       "<table border=\"1\" class=\"dataframe\">\n",
       "  <thead>\n",
       "    <tr style=\"text-align: right;\">\n",
       "      <th></th>\n",
       "      <th>created_date</th>\n",
       "      <th>unique_key</th>\n",
       "      <th>complaint_type</th>\n",
       "      <th>incident_zip</th>\n",
       "      <th>incident_address</th>\n",
       "      <th>street_name</th>\n",
       "      <th>address_type</th>\n",
       "      <th>city</th>\n",
       "      <th>resolution_description</th>\n",
       "      <th>borough</th>\n",
       "      <th>latitude</th>\n",
       "      <th>longitude</th>\n",
       "      <th>closed_date</th>\n",
       "      <th>location_type</th>\n",
       "      <th>status</th>\n",
       "    </tr>\n",
       "  </thead>\n",
       "  <tbody>\n",
       "    <tr>\n",
       "      <th>0</th>\n",
       "      <td>2020-08-17T17:06:01.000</td>\n",
       "      <td>47277816</td>\n",
       "      <td>PLUMBING</td>\n",
       "      <td>10468.0</td>\n",
       "      <td>95 WEST  195 STREET</td>\n",
       "      <td>WEST  195 STREET</td>\n",
       "      <td>ADDRESS</td>\n",
       "      <td>BRONX</td>\n",
       "      <td>The following complaint conditions are still o...</td>\n",
       "      <td>BRONX</td>\n",
       "      <td>40.869953</td>\n",
       "      <td>-73.899488</td>\n",
       "      <td>NaN</td>\n",
       "      <td>RESIDENTIAL BUILDING</td>\n",
       "      <td>Open</td>\n",
       "    </tr>\n",
       "    <tr>\n",
       "      <th>1</th>\n",
       "      <td>2020-08-17T10:12:47.000</td>\n",
       "      <td>47277264</td>\n",
       "      <td>PAINT/PLASTER</td>\n",
       "      <td>10303.0</td>\n",
       "      <td>55 HOLLAND AVENUE</td>\n",
       "      <td>HOLLAND AVENUE</td>\n",
       "      <td>ADDRESS</td>\n",
       "      <td>STATEN ISLAND</td>\n",
       "      <td>The following complaint conditions are still o...</td>\n",
       "      <td>STATEN ISLAND</td>\n",
       "      <td>40.638992</td>\n",
       "      <td>-74.171244</td>\n",
       "      <td>NaN</td>\n",
       "      <td>RESIDENTIAL BUILDING</td>\n",
       "      <td>Open</td>\n",
       "    </tr>\n",
       "    <tr>\n",
       "      <th>2</th>\n",
       "      <td>2020-08-17T13:47:57.000</td>\n",
       "      <td>47273051</td>\n",
       "      <td>WATER LEAK</td>\n",
       "      <td>11225.0</td>\n",
       "      <td>135 OCEAN AVENUE</td>\n",
       "      <td>OCEAN AVENUE</td>\n",
       "      <td>ADDRESS</td>\n",
       "      <td>BROOKLYN</td>\n",
       "      <td>The following complaint conditions are still o...</td>\n",
       "      <td>BROOKLYN</td>\n",
       "      <td>40.659590</td>\n",
       "      <td>-73.962656</td>\n",
       "      <td>NaN</td>\n",
       "      <td>RESIDENTIAL BUILDING</td>\n",
       "      <td>Open</td>\n",
       "    </tr>\n",
       "    <tr>\n",
       "      <th>3</th>\n",
       "      <td>2020-08-17T12:56:24.000</td>\n",
       "      <td>47275668</td>\n",
       "      <td>ELECTRIC</td>\n",
       "      <td>10075.0</td>\n",
       "      <td>337 EAST   77 STREET</td>\n",
       "      <td>EAST   77 STREET</td>\n",
       "      <td>ADDRESS</td>\n",
       "      <td>NEW YORK</td>\n",
       "      <td>The following complaint conditions are still o...</td>\n",
       "      <td>MANHATTAN</td>\n",
       "      <td>40.771623</td>\n",
       "      <td>-73.955048</td>\n",
       "      <td>NaN</td>\n",
       "      <td>RESIDENTIAL BUILDING</td>\n",
       "      <td>Open</td>\n",
       "    </tr>\n",
       "    <tr>\n",
       "      <th>4</th>\n",
       "      <td>2020-08-17T10:31:06.000</td>\n",
       "      <td>47274700</td>\n",
       "      <td>UNSANITARY CONDITION</td>\n",
       "      <td>10019.0</td>\n",
       "      <td>37 WEST   54 STREET</td>\n",
       "      <td>WEST   54 STREET</td>\n",
       "      <td>ADDRESS</td>\n",
       "      <td>NEW YORK</td>\n",
       "      <td>The following complaint conditions are still o...</td>\n",
       "      <td>MANHATTAN</td>\n",
       "      <td>40.761600</td>\n",
       "      <td>-73.976684</td>\n",
       "      <td>NaN</td>\n",
       "      <td>RESIDENTIAL BUILDING</td>\n",
       "      <td>Open</td>\n",
       "    </tr>\n",
       "  </tbody>\n",
       "</table>\n",
       "</div>"
      ],
      "text/plain": [
       "              created_date  unique_key        complaint_type  incident_zip  \\\n",
       "0  2020-08-17T17:06:01.000    47277816              PLUMBING       10468.0   \n",
       "1  2020-08-17T10:12:47.000    47277264         PAINT/PLASTER       10303.0   \n",
       "2  2020-08-17T13:47:57.000    47273051            WATER LEAK       11225.0   \n",
       "3  2020-08-17T12:56:24.000    47275668              ELECTRIC       10075.0   \n",
       "4  2020-08-17T10:31:06.000    47274700  UNSANITARY CONDITION       10019.0   \n",
       "\n",
       "       incident_address       street_name address_type           city  \\\n",
       "0   95 WEST  195 STREET  WEST  195 STREET      ADDRESS          BRONX   \n",
       "1     55 HOLLAND AVENUE    HOLLAND AVENUE      ADDRESS  STATEN ISLAND   \n",
       "2      135 OCEAN AVENUE      OCEAN AVENUE      ADDRESS       BROOKLYN   \n",
       "3  337 EAST   77 STREET  EAST   77 STREET      ADDRESS       NEW YORK   \n",
       "4   37 WEST   54 STREET  WEST   54 STREET      ADDRESS       NEW YORK   \n",
       "\n",
       "                              resolution_description        borough  \\\n",
       "0  The following complaint conditions are still o...          BRONX   \n",
       "1  The following complaint conditions are still o...  STATEN ISLAND   \n",
       "2  The following complaint conditions are still o...       BROOKLYN   \n",
       "3  The following complaint conditions are still o...      MANHATTAN   \n",
       "4  The following complaint conditions are still o...      MANHATTAN   \n",
       "\n",
       "    latitude  longitude closed_date         location_type status  \n",
       "0  40.869953 -73.899488         NaN  RESIDENTIAL BUILDING   Open  \n",
       "1  40.638992 -74.171244         NaN  RESIDENTIAL BUILDING   Open  \n",
       "2  40.659590 -73.962656         NaN  RESIDENTIAL BUILDING   Open  \n",
       "3  40.771623 -73.955048         NaN  RESIDENTIAL BUILDING   Open  \n",
       "4  40.761600 -73.976684         NaN  RESIDENTIAL BUILDING   Open  "
      ]
     },
     "execution_count": 3,
     "metadata": {},
     "output_type": "execute_result"
    }
   ],
   "source": [
    "df_311.head()"
   ]
  },
  {
   "cell_type": "code",
   "execution_count": 4,
   "metadata": {},
   "outputs": [
    {
     "data": {
      "text/plain": [
       "created_date                    0\n",
       "unique_key                      0\n",
       "complaint_type                  0\n",
       "incident_zip                80738\n",
       "incident_address            52831\n",
       "street_name                 52831\n",
       "address_type                84752\n",
       "city                        80310\n",
       "resolution_description       7824\n",
       "borough                         0\n",
       "latitude                  2830524\n",
       "longitude                 2830524\n",
       "closed_date                132816\n",
       "location_type               52830\n",
       "status                          0\n",
       "dtype: int64"
      ]
     },
     "execution_count": 4,
     "metadata": {},
     "output_type": "execute_result"
    }
   ],
   "source": [
    "# check if any na values\n",
    "df_311.isnull().sum()"
   ]
  },
  {
   "cell_type": "code",
   "execution_count": 5,
   "metadata": {},
   "outputs": [
    {
     "data": {
      "text/plain": [
       "HEAT/HOT WATER          1320668\n",
       "HEATING                  887869\n",
       "PLUMBING                 728591\n",
       "GENERAL CONSTRUCTION     500863\n",
       "UNSANITARY CONDITION     480042\n",
       "PAINT - PLASTER          361257\n",
       "PAINT/PLASTER            360806\n",
       "ELECTRIC                 316171\n",
       "NONCONST                 260890\n",
       "DOOR/WINDOW              215970\n",
       "Name: complaint_type, dtype: int64"
      ]
     },
     "execution_count": 5,
     "metadata": {},
     "output_type": "execute_result"
    }
   ],
   "source": [
    "# Top ten complaint types based on total number of complaints\n",
    "df_311['complaint_type'].value_counts().head(10)"
   ]
  },
  {
   "cell_type": "code",
   "execution_count": 6,
   "metadata": {},
   "outputs": [
    {
     "data": {
      "image/png": "[encoded data removed]",
      "text/plain": [
       "<Figure size 432x288 with 1 Axes>"
      ]
     },
     "metadata": {
      "needs_background": "light"
     },
     "output_type": "display_data"
    }
   ],
   "source": [
    "# Total amount for top ten types of complaints \n",
    "plt.figure(figsize = (6,4))\n",
    "df_311['complaint_type'].value_counts()[:10].plot(kind = 'bar')\n",
    "plt.xlabel('Complaint Type')\n",
    "plt.ylabel('Total Amount')\n",
    "plt.title('Total amount for top ten types of complaints', fontsize = 14, color ='b')\n",
    "plt.show()"
   ]
  },
  {
   "cell_type": "code",
   "execution_count": 7,
   "metadata": {},
   "outputs": [],
   "source": [
    "# convert 'created_date' to datetime type\n",
    "df_311['created_date'] = pd.to_datetime(df_311['created_date'])"
   ]
  },
  {
   "cell_type": "code",
   "execution_count": 8,
   "metadata": {},
   "outputs": [],
   "source": [
    "# create a new feature 'Year'\n",
    "df_311['Year'] = df_311['created_date'].apply(lambda x: x.year)"
   ]
  },
  {
   "cell_type": "code",
   "execution_count": 9,
   "metadata": {},
   "outputs": [
    {
     "data": {
      "text/plain": [
       "Year  complaint_type      \n",
       "2010  GENERAL CONSTRUCTION    127131\n",
       "      HEATING                 214218\n",
       "      PLUMBING                111504\n",
       "2011  GENERAL CONSTRUCTION    133242\n",
       "      HEATING                 190184\n",
       "      PLUMBING                113218\n",
       "2012  GENERAL CONSTRUCTION    112436\n",
       "      HEATING                 182974\n",
       "      PLUMBING                 87561\n",
       "2013  GENERAL CONSTRUCTION    112169\n",
       "      HEATING                 202896\n",
       "      PLUMBING                 86564\n",
       "2014  GENERAL CONSTRUCTION     15885\n",
       "      HEAT/HOT WATER          132767\n",
       "      HEATING                  97597\n",
       "      PLUMBING                 63221\n",
       "      UNSANITARY CONDITION     61789\n",
       "2015  HEAT/HOT WATER          225706\n",
       "      PLUMBING                 55418\n",
       "      UNSANITARY CONDITION     82888\n",
       "2016  HEAT/HOT WATER          227959\n",
       "      PLUMBING                 52592\n",
       "      UNSANITARY CONDITION     80469\n",
       "2017  HEAT/HOT WATER          213521\n",
       "      PLUMBING                 49969\n",
       "      UNSANITARY CONDITION     79282\n",
       "2018  HEAT/HOT WATER          223835\n",
       "      PLUMBING                 53359\n",
       "      UNSANITARY CONDITION     86480\n",
       "2019  HEAT/HOT WATER          212075\n",
       "      PLUMBING                 35945\n",
       "      UNSANITARY CONDITION     57764\n",
       "2020  HEAT/HOT WATER           84805\n",
       "      PLUMBING                 19240\n",
       "      UNSANITARY CONDITION     31370\n",
       "Name: unique_key, dtype: int64"
      ]
     },
     "execution_count": 9,
     "metadata": {},
     "output_type": "execute_result"
    }
   ],
   "source": [
    "df_TopFive = df_311[df_311['complaint_type'].isin(['HEAT/HOT WATER','HEATING','PLUMBING','GENERAL CONSTRUCTION','UNSANITARY CONDITION'])]\\\n",
    ".groupby(['Year','complaint_type']).count()['unique_key']\n",
    "df_TopFive"
   ]
  },
  {
   "cell_type": "code",
   "execution_count": 10,
   "metadata": {},
   "outputs": [
    {
     "data": {
      "text/plain": [
       "Text(0.5, 1.0, 'Total amounts for the top five types of complaints from 2010 to 2020')"
      ]
     },
     "execution_count": 10,
     "metadata": {},
     "output_type": "execute_result"
    },
    {
     "data": {
      "image/png": "[encoded data removed]",
      "text/plain": [
       "<Figure size 1008x576 with 1 Axes>"
      ]
     },
     "metadata": {
      "needs_background": "light"
     },
     "output_type": "display_data"
    }
   ],
   "source": [
    "# plot total amounts for the top five types of complaints from 2010 to 2020\n",
    "df_TopFive.unstack().plot(kind ='bar', figsize =(14,8))\n",
    "plt.xlabel('Year', fontsize = 12)\n",
    "plt.ylabel('Amount of Complaints', fontsize =12)\n",
    "plt.title('Total amounts for the top five types of complaints from 2010 to 2020', fontsize = 14, color ='b')"
   ]
  },
  {
   "cell_type": "markdown",
   "metadata": {},
   "source": [
    "### The figure above shows that HEATING was the top complaint before 2014, and HEAT/HOT WATER is the top after 2014. \n",
    "### The fact that HEATING disappeared after 2014 indicates that it was probably renamed/included to HEAT/HOT WATER from 2015"
   ]
  },
  {
   "cell_type": "code",
   "execution_count": 11,
   "metadata": {},
   "outputs": [],
   "source": [
    "# Replace \"HEATING\" with 'HEAT/HOT WATER' in df_311\n",
    "df_311['complaint_type'] = np.where(df_311['complaint_type'] == 'HEATING', 'HEAT/HOT WATER', df_311['complaint_type'])"
   ]
  },
  {
   "cell_type": "code",
   "execution_count": 12,
   "metadata": {},
   "outputs": [
    {
     "data": {
      "text/plain": [
       "Text(0.5, 1.0, 'Total amount for top five types of complaints')"
      ]
     },
     "execution_count": 12,
     "metadata": {},
     "output_type": "execute_result"
    },
    {
     "data": {
      "image/png": "[encoded data removed]",
      "text/plain": [
       "<Figure size 432x288 with 1 Axes>"
      ]
     },
     "metadata": {
      "needs_background": "light"
     },
     "output_type": "display_data"
    }
   ],
   "source": [
    "# plot out the top five complaint types after combining HEATING and HEAT/HOT WATER\n",
    "df_311['complaint_type'].value_counts()[0:5].plot(kind = 'bar')\n",
    "plt.title ('Total amount for top five types of complaints', fontsize = 14, color ='b')"
   ]
  },
  {
   "cell_type": "markdown",
   "metadata": {},
   "source": [
    "### From the result above: HEAT/HOT WATER is the type that has the most total number of cases \n",
    "### Now let us check which type has the most OPEN cases"
   ]
  },
  {
   "cell_type": "code",
   "execution_count": 13,
   "metadata": {},
   "outputs": [
    {
     "data": {
      "text/plain": [
       "GENERAL CONSTRUCTION    29623\n",
       "PLUMBING                27045\n",
       "PAINT - PLASTER         21647\n",
       "NONCONST                15278\n",
       "HEAT/HOT WATER          15154\n",
       "ELECTRIC                 9859\n",
       "UNSANITARY CONDITION     5226\n",
       "APPLIANCE                4343\n",
       "PAINT/PLASTER            2625\n",
       "DOOR/WINDOW              1965\n",
       "Name: complaint_type, dtype: int64"
      ]
     },
     "execution_count": 13,
     "metadata": {},
     "output_type": "execute_result"
    }
   ],
   "source": [
    "df_311[df_311['status'] == 'Open']['complaint_type'].value_counts().head(10)"
   ]
  },
  {
   "cell_type": "markdown",
   "metadata": {},
   "source": [
    "### Results above show 'GENERAL CONSTRUCTION' has the most OPEN cases. HEAT/HOT WATER has the fifth most OPEN cases even though it has the most total amount, indicating it is probably a problem with a easy/quick fix \n",
    "### Now let us look at the ratio of OPEN/TOTAL cases for each type "
   ]
  },
  {
   "cell_type": "code",
   "execution_count": 14,
   "metadata": {},
   "outputs": [
    {
     "data": {
      "text/plain": [
       "Closed         6053215\n",
       "Open            139420\n",
       "In Progress        318\n",
       "Assigned             4\n",
       "Pending              2\n",
       "Name: status, dtype: int64"
      ]
     },
     "execution_count": 14,
     "metadata": {},
     "output_type": "execute_result"
    }
   ],
   "source": [
    "# what are the types in the status column?\n",
    "df_311['status'].value_counts()"
   ]
  },
  {
   "cell_type": "code",
   "execution_count": 15,
   "metadata": {},
   "outputs": [],
   "source": [
    "# change all the 'Closed' to 1\n",
    "df_311['status'] = np.where(df_311['status'] == 'Closed', 1, df_311['status'])"
   ]
  },
  {
   "cell_type": "code",
   "execution_count": 16,
   "metadata": {},
   "outputs": [],
   "source": [
    "# change all the 'Open' including 'Open', 'In Progress', 'Assigned', 'Pending' to 0\n",
    "df_311['status'] = np.where(df_311['status'].isin(['Open','In Progress','Assigned','Pending']), 0, df_311['status'])"
   ]
  },
  {
   "cell_type": "code",
   "execution_count": 17,
   "metadata": {},
   "outputs": [
    {
     "data": {
      "text/plain": [
       "GENERAL CONSTRUCTION      29623\n",
       "PLUMBING                  27045\n",
       "PAINT - PLASTER           21647\n",
       "NONCONST                  15278\n",
       "HEAT/HOT WATER            15156\n",
       "ELECTRIC                   9859\n",
       "UNSANITARY CONDITION       5226\n",
       "APPLIANCE                  4343\n",
       "PAINT/PLASTER              2625\n",
       "DOOR/WINDOW                1965\n",
       "WATER LEAK                 1951\n",
       "GENERAL                    1438\n",
       "FLOORING/STAIRS            1341\n",
       "HPD Literature Request     1080\n",
       "SAFETY                      421\n",
       "CONSTRUCTION                266\n",
       "Unsanitary Condition        246\n",
       "ELEVATOR                     87\n",
       "OUTSIDE BUILDING             70\n",
       "General                      50\n",
       "Safety                       19\n",
       "VACANT APARTMENT              5\n",
       "Appliance                     2\n",
       "Mold                          1\n",
       "Name: complaint_type, dtype: int64"
      ]
     },
     "execution_count": 17,
     "metadata": {},
     "output_type": "execute_result"
    }
   ],
   "source": [
    "df_open = df_311[df_311['status'] ==0]['complaint_type'].value_counts()\n",
    "df_open"
   ]
  },
  {
   "cell_type": "code",
   "execution_count": 18,
   "metadata": {},
   "outputs": [],
   "source": [
    "df_total = df_311.groupby('complaint_type').count()['unique_key']"
   ]
  },
  {
   "cell_type": "code",
   "execution_count": 19,
   "metadata": {},
   "outputs": [
    {
     "data": {
      "text/html": [
       "<div>\n",
       "<style scoped>\n",
       "    .dataframe tbody tr th:only-of-type {\n",
       "        vertical-align: middle;\n",
       "    }\n",
       "\n",
       "    .dataframe tbody tr th {\n",
       "        vertical-align: top;\n",
       "    }\n",
       "\n",
       "    .dataframe thead th {\n",
       "        text-align: right;\n",
       "    }\n",
       "</style>\n",
       "<table border=\"1\" class=\"dataframe\">\n",
       "  <thead>\n",
       "    <tr style=\"text-align: right;\">\n",
       "      <th></th>\n",
       "      <th>complaint_type</th>\n",
       "      <th>unique_key</th>\n",
       "    </tr>\n",
       "  </thead>\n",
       "  <tbody>\n",
       "    <tr>\n",
       "      <th>GENERAL CONSTRUCTION</th>\n",
       "      <td>29623</td>\n",
       "      <td>500863</td>\n",
       "    </tr>\n",
       "    <tr>\n",
       "      <th>PLUMBING</th>\n",
       "      <td>27045</td>\n",
       "      <td>728591</td>\n",
       "    </tr>\n",
       "    <tr>\n",
       "      <th>PAINT - PLASTER</th>\n",
       "      <td>21647</td>\n",
       "      <td>361257</td>\n",
       "    </tr>\n",
       "    <tr>\n",
       "      <th>NONCONST</th>\n",
       "      <td>15278</td>\n",
       "      <td>260890</td>\n",
       "    </tr>\n",
       "    <tr>\n",
       "      <th>HEAT/HOT WATER</th>\n",
       "      <td>15156</td>\n",
       "      <td>2208537</td>\n",
       "    </tr>\n",
       "    <tr>\n",
       "      <th>ELECTRIC</th>\n",
       "      <td>9859</td>\n",
       "      <td>316171</td>\n",
       "    </tr>\n",
       "    <tr>\n",
       "      <th>UNSANITARY CONDITION</th>\n",
       "      <td>5226</td>\n",
       "      <td>480042</td>\n",
       "    </tr>\n",
       "    <tr>\n",
       "      <th>APPLIANCE</th>\n",
       "      <td>4343</td>\n",
       "      <td>119114</td>\n",
       "    </tr>\n",
       "    <tr>\n",
       "      <th>PAINT/PLASTER</th>\n",
       "      <td>2625</td>\n",
       "      <td>360806</td>\n",
       "    </tr>\n",
       "    <tr>\n",
       "      <th>DOOR/WINDOW</th>\n",
       "      <td>1965</td>\n",
       "      <td>215970</td>\n",
       "    </tr>\n",
       "    <tr>\n",
       "      <th>WATER LEAK</th>\n",
       "      <td>1951</td>\n",
       "      <td>203275</td>\n",
       "    </tr>\n",
       "    <tr>\n",
       "      <th>GENERAL</th>\n",
       "      <td>1438</td>\n",
       "      <td>159754</td>\n",
       "    </tr>\n",
       "    <tr>\n",
       "      <th>FLOORING/STAIRS</th>\n",
       "      <td>1341</td>\n",
       "      <td>143534</td>\n",
       "    </tr>\n",
       "    <tr>\n",
       "      <th>HPD Literature Request</th>\n",
       "      <td>1080</td>\n",
       "      <td>52830</td>\n",
       "    </tr>\n",
       "    <tr>\n",
       "      <th>SAFETY</th>\n",
       "      <td>421</td>\n",
       "      <td>54352</td>\n",
       "    </tr>\n",
       "    <tr>\n",
       "      <th>CONSTRUCTION</th>\n",
       "      <td>266</td>\n",
       "      <td>5078</td>\n",
       "    </tr>\n",
       "    <tr>\n",
       "      <th>Unsanitary Condition</th>\n",
       "      <td>246</td>\n",
       "      <td>5499</td>\n",
       "    </tr>\n",
       "    <tr>\n",
       "      <th>ELEVATOR</th>\n",
       "      <td>87</td>\n",
       "      <td>7364</td>\n",
       "    </tr>\n",
       "    <tr>\n",
       "      <th>OUTSIDE BUILDING</th>\n",
       "      <td>70</td>\n",
       "      <td>7389</td>\n",
       "    </tr>\n",
       "    <tr>\n",
       "      <th>General</th>\n",
       "      <td>50</td>\n",
       "      <td>1163</td>\n",
       "    </tr>\n",
       "    <tr>\n",
       "      <th>Safety</th>\n",
       "      <td>19</td>\n",
       "      <td>424</td>\n",
       "    </tr>\n",
       "    <tr>\n",
       "      <th>VACANT APARTMENT</th>\n",
       "      <td>5</td>\n",
       "      <td>8</td>\n",
       "    </tr>\n",
       "    <tr>\n",
       "      <th>Appliance</th>\n",
       "      <td>2</td>\n",
       "      <td>4</td>\n",
       "    </tr>\n",
       "    <tr>\n",
       "      <th>Mold</th>\n",
       "      <td>1</td>\n",
       "      <td>1</td>\n",
       "    </tr>\n",
       "  </tbody>\n",
       "</table>\n",
       "</div>"
      ],
      "text/plain": [
       "                        complaint_type  unique_key\n",
       "GENERAL CONSTRUCTION             29623      500863\n",
       "PLUMBING                         27045      728591\n",
       "PAINT - PLASTER                  21647      361257\n",
       "NONCONST                         15278      260890\n",
       "HEAT/HOT WATER                   15156     2208537\n",
       "ELECTRIC                          9859      316171\n",
       "UNSANITARY CONDITION              5226      480042\n",
       "APPLIANCE                         4343      119114\n",
       "PAINT/PLASTER                     2625      360806\n",
       "DOOR/WINDOW                       1965      215970\n",
       "WATER LEAK                        1951      203275\n",
       "GENERAL                           1438      159754\n",
       "FLOORING/STAIRS                   1341      143534\n",
       "HPD Literature Request            1080       52830\n",
       "SAFETY                             421       54352\n",
       "CONSTRUCTION                       266        5078\n",
       "Unsanitary Condition               246        5499\n",
       "ELEVATOR                            87        7364\n",
       "OUTSIDE BUILDING                    70        7389\n",
       "General                             50        1163\n",
       "Safety                              19         424\n",
       "VACANT APARTMENT                     5           8\n",
       "Appliance                            2           4\n",
       "Mold                                 1           1"
      ]
     },
     "execution_count": 19,
     "metadata": {},
     "output_type": "execute_result"
    }
   ],
   "source": [
    "df_summary = pd.merge(df_open, df_total, left_index = True, right_index = True)\n",
    "df_summary"
   ]
  },
  {
   "cell_type": "code",
   "execution_count": 20,
   "metadata": {},
   "outputs": [],
   "source": [
    "#rename the columns \n",
    "df_summary = df_summary.rename(columns ={'complaint_type': 'Open_Cases_Amount', 'unique_key': 'Total_Amount'})"
   ]
  },
  {
   "cell_type": "code",
   "execution_count": 21,
   "metadata": {},
   "outputs": [
    {
     "data": {
      "text/html": [
       "<div>\n",
       "<style scoped>\n",
       "    .dataframe tbody tr th:only-of-type {\n",
       "        vertical-align: middle;\n",
       "    }\n",
       "\n",
       "    .dataframe tbody tr th {\n",
       "        vertical-align: top;\n",
       "    }\n",
       "\n",
       "    .dataframe thead th {\n",
       "        text-align: right;\n",
       "    }\n",
       "</style>\n",
       "<table border=\"1\" class=\"dataframe\">\n",
       "  <thead>\n",
       "    <tr style=\"text-align: right;\">\n",
       "      <th></th>\n",
       "      <th>Open_Cases_Amount</th>\n",
       "      <th>Total_Amount</th>\n",
       "      <th>OpenCaseRatio</th>\n",
       "    </tr>\n",
       "  </thead>\n",
       "  <tbody>\n",
       "    <tr>\n",
       "      <th>GENERAL CONSTRUCTION</th>\n",
       "      <td>29623</td>\n",
       "      <td>500863</td>\n",
       "      <td>0.059144</td>\n",
       "    </tr>\n",
       "    <tr>\n",
       "      <th>PLUMBING</th>\n",
       "      <td>27045</td>\n",
       "      <td>728591</td>\n",
       "      <td>0.037120</td>\n",
       "    </tr>\n",
       "    <tr>\n",
       "      <th>PAINT - PLASTER</th>\n",
       "      <td>21647</td>\n",
       "      <td>361257</td>\n",
       "      <td>0.059921</td>\n",
       "    </tr>\n",
       "    <tr>\n",
       "      <th>NONCONST</th>\n",
       "      <td>15278</td>\n",
       "      <td>260890</td>\n",
       "      <td>0.058561</td>\n",
       "    </tr>\n",
       "    <tr>\n",
       "      <th>HEAT/HOT WATER</th>\n",
       "      <td>15156</td>\n",
       "      <td>2208537</td>\n",
       "      <td>0.006862</td>\n",
       "    </tr>\n",
       "    <tr>\n",
       "      <th>ELECTRIC</th>\n",
       "      <td>9859</td>\n",
       "      <td>316171</td>\n",
       "      <td>0.031182</td>\n",
       "    </tr>\n",
       "    <tr>\n",
       "      <th>UNSANITARY CONDITION</th>\n",
       "      <td>5226</td>\n",
       "      <td>480042</td>\n",
       "      <td>0.010887</td>\n",
       "    </tr>\n",
       "    <tr>\n",
       "      <th>APPLIANCE</th>\n",
       "      <td>4343</td>\n",
       "      <td>119114</td>\n",
       "      <td>0.036461</td>\n",
       "    </tr>\n",
       "    <tr>\n",
       "      <th>PAINT/PLASTER</th>\n",
       "      <td>2625</td>\n",
       "      <td>360806</td>\n",
       "      <td>0.007275</td>\n",
       "    </tr>\n",
       "    <tr>\n",
       "      <th>DOOR/WINDOW</th>\n",
       "      <td>1965</td>\n",
       "      <td>215970</td>\n",
       "      <td>0.009098</td>\n",
       "    </tr>\n",
       "    <tr>\n",
       "      <th>WATER LEAK</th>\n",
       "      <td>1951</td>\n",
       "      <td>203275</td>\n",
       "      <td>0.009598</td>\n",
       "    </tr>\n",
       "    <tr>\n",
       "      <th>GENERAL</th>\n",
       "      <td>1438</td>\n",
       "      <td>159754</td>\n",
       "      <td>0.009001</td>\n",
       "    </tr>\n",
       "    <tr>\n",
       "      <th>FLOORING/STAIRS</th>\n",
       "      <td>1341</td>\n",
       "      <td>143534</td>\n",
       "      <td>0.009343</td>\n",
       "    </tr>\n",
       "    <tr>\n",
       "      <th>HPD Literature Request</th>\n",
       "      <td>1080</td>\n",
       "      <td>52830</td>\n",
       "      <td>0.020443</td>\n",
       "    </tr>\n",
       "    <tr>\n",
       "      <th>SAFETY</th>\n",
       "      <td>421</td>\n",
       "      <td>54352</td>\n",
       "      <td>0.007746</td>\n",
       "    </tr>\n",
       "    <tr>\n",
       "      <th>CONSTRUCTION</th>\n",
       "      <td>266</td>\n",
       "      <td>5078</td>\n",
       "      <td>0.052383</td>\n",
       "    </tr>\n",
       "    <tr>\n",
       "      <th>Unsanitary Condition</th>\n",
       "      <td>246</td>\n",
       "      <td>5499</td>\n",
       "      <td>0.044735</td>\n",
       "    </tr>\n",
       "    <tr>\n",
       "      <th>ELEVATOR</th>\n",
       "      <td>87</td>\n",
       "      <td>7364</td>\n",
       "      <td>0.011814</td>\n",
       "    </tr>\n",
       "    <tr>\n",
       "      <th>OUTSIDE BUILDING</th>\n",
       "      <td>70</td>\n",
       "      <td>7389</td>\n",
       "      <td>0.009474</td>\n",
       "    </tr>\n",
       "    <tr>\n",
       "      <th>General</th>\n",
       "      <td>50</td>\n",
       "      <td>1163</td>\n",
       "      <td>0.042992</td>\n",
       "    </tr>\n",
       "    <tr>\n",
       "      <th>Safety</th>\n",
       "      <td>19</td>\n",
       "      <td>424</td>\n",
       "      <td>0.044811</td>\n",
       "    </tr>\n",
       "    <tr>\n",
       "      <th>VACANT APARTMENT</th>\n",
       "      <td>5</td>\n",
       "      <td>8</td>\n",
       "      <td>0.625000</td>\n",
       "    </tr>\n",
       "    <tr>\n",
       "      <th>Appliance</th>\n",
       "      <td>2</td>\n",
       "      <td>4</td>\n",
       "      <td>0.500000</td>\n",
       "    </tr>\n",
       "    <tr>\n",
       "      <th>Mold</th>\n",
       "      <td>1</td>\n",
       "      <td>1</td>\n",
       "      <td>1.000000</td>\n",
       "    </tr>\n",
       "  </tbody>\n",
       "</table>\n",
       "</div>"
      ],
      "text/plain": [
       "                        Open_Cases_Amount  Total_Amount  OpenCaseRatio\n",
       "GENERAL CONSTRUCTION                29623        500863       0.059144\n",
       "PLUMBING                            27045        728591       0.037120\n",
       "PAINT - PLASTER                     21647        361257       0.059921\n",
       "NONCONST                            15278        260890       0.058561\n",
       "HEAT/HOT WATER                      15156       2208537       0.006862\n",
       "ELECTRIC                             9859        316171       0.031182\n",
       "UNSANITARY CONDITION                 5226        480042       0.010887\n",
       "APPLIANCE                            4343        119114       0.036461\n",
       "PAINT/PLASTER                        2625        360806       0.007275\n",
       "DOOR/WINDOW                          1965        215970       0.009098\n",
       "WATER LEAK                           1951        203275       0.009598\n",
       "GENERAL                              1438        159754       0.009001\n",
       "FLOORING/STAIRS                      1341        143534       0.009343\n",
       "HPD Literature Request               1080         52830       0.020443\n",
       "SAFETY                                421         54352       0.007746\n",
       "CONSTRUCTION                          266          5078       0.052383\n",
       "Unsanitary Condition                  246          5499       0.044735\n",
       "ELEVATOR                               87          7364       0.011814\n",
       "OUTSIDE BUILDING                       70          7389       0.009474\n",
       "General                                50          1163       0.042992\n",
       "Safety                                 19           424       0.044811\n",
       "VACANT APARTMENT                        5             8       0.625000\n",
       "Appliance                               2             4       0.500000\n",
       "Mold                                    1             1       1.000000"
      ]
     },
     "execution_count": 21,
     "metadata": {},
     "output_type": "execute_result"
    }
   ],
   "source": [
    "df_summary['OpenCaseRatio'] = df_summary['Open_Cases_Amount']/df_summary['Total_Amount']\n",
    "df_summary.sort_values('Open_Cases_Amount', ascending = False)"
   ]
  },
  {
   "cell_type": "markdown",
   "metadata": {},
   "source": [
    "### Table above shows that 'GENERAL CONSTRUCTION' has the most open cases and almost the highest OPEN/Total ratio (5%). Note that Mold, Appliance, Vacant Apartment have the highest open case ratio, but that is due to their extremly low total number of cases "
   ]
  },
  {
   "cell_type": "markdown",
   "metadata": {},
   "source": [
    "## QUESTION 1 CONCLUSION:\n",
    "## Department of Housing Preservation and Development of NYC should address HEAT/HOT WATER complaints first. GENERAL CONSTRUCTION has the most OPEN cases, which should also be focused on."
   ]
  },
  {
   "cell_type": "code",
   "execution_count": 22,
   "metadata": {},
   "outputs": [
    {
     "data": {
      "text/plain": [
       "BRONX            628121\n",
       "BROOKLYN         590956\n",
       "MANHATTAN        436397\n",
       "Unspecified      282917\n",
       "QUEENS           251281\n",
       "STATEN ISLAND     18865\n",
       "Name: borough, dtype: int64"
      ]
     },
     "execution_count": 22,
     "metadata": {},
     "output_type": "execute_result"
    }
   ],
   "source": [
    "df_311[df_311['complaint_type'] == 'HEAT/HOT WATER']['borough'].value_counts()"
   ]
  },
  {
   "cell_type": "markdown",
   "metadata": {},
   "source": [
    "### BRONX is the borough that has most HEAT/HOT WATER complaints - total of 628121 cases"
   ]
  },
  {
   "cell_type": "code",
   "execution_count": 23,
   "metadata": {},
   "outputs": [
    {
     "data": {
      "text/plain": [
       "11226.0    70933\n",
       "10467.0    67807\n",
       "10458.0    67060\n",
       "10468.0    59731\n",
       "10453.0    59267\n",
       "Name: incident_zip, dtype: int64"
      ]
     },
     "execution_count": 23,
     "metadata": {},
     "output_type": "execute_result"
    }
   ],
   "source": [
    "df_311[df_311['complaint_type'] == 'HEAT/HOT WATER']['incident_zip'].value_counts().head()"
   ]
  },
  {
   "cell_type": "markdown",
   "metadata": {},
   "source": [
    "### 11226 is the zip code that has most HEAT/HOT WATER complaints - total of 70933 cases. From google map, 11226 actually is in a neighborhood called Flatbush in Brooklyn area. "
   ]
  },
  {
   "cell_type": "code",
   "execution_count": 24,
   "metadata": {},
   "outputs": [
    {
     "data": {
      "text/plain": [
       "GRAND CONCOURSE    38958\n",
       "BROADWAY           25036\n",
       "OCEAN AVENUE       19244\n",
       "MORRIS AVENUE      16649\n",
       "ARDEN STREET       16113\n",
       "Name: street_name, dtype: int64"
      ]
     },
     "execution_count": 24,
     "metadata": {},
     "output_type": "execute_result"
    }
   ],
   "source": [
    "df_311[df_311['complaint_type'] == 'HEAT/HOT WATER']['street_name'].value_counts().head()"
   ]
  },
  {
   "cell_type": "markdown",
   "metadata": {},
   "source": [
    "### GRAND CONCOURSE is the street that has most HEAT/HOT WATER complaints - total of 38958 cases. From google map, GRAND CONCOURSE is actually a street in BRONX."
   ]
  },
  {
   "cell_type": "markdown",
   "metadata": {},
   "source": [
    "# QUESTION 2 CONCLUSION:\n",
    "# Department of Housing Preservation and Development of NYC should focus on BRONX borough, 11226 zipcode area, and GRAND CONCOURSE street for HEAT/HOT WATER complaints."
   ]
  },
  {
   "cell_type": "markdown",
   "metadata": {},
   "source": [
    "### For QUESTION 3, I am going to build a model to predict the number of HEAT/HOT WATER complaints (in multiple ranges), based on the ADDRESS in BRONX. Main steps include merging two DataFrames - one lists Address and Total Number of HHW complaints (derived from df_311) and the other one lists Address and House Characterisitcs of the Address."
   ]
  },
  {
   "cell_type": "code",
   "execution_count": 25,
   "metadata": {},
   "outputs": [
    {
     "data": {
      "text/html": [
       "<div>\n",
       "<style scoped>\n",
       "    .dataframe tbody tr th:only-of-type {\n",
       "        vertical-align: middle;\n",
       "    }\n",
       "\n",
       "    .dataframe tbody tr th {\n",
       "        vertical-align: top;\n",
       "    }\n",
       "\n",
       "    .dataframe thead th {\n",
       "        text-align: right;\n",
       "    }\n",
       "</style>\n",
       "<table border=\"1\" class=\"dataframe\">\n",
       "  <thead>\n",
       "    <tr style=\"text-align: right;\">\n",
       "      <th></th>\n",
       "      <th>created_date</th>\n",
       "      <th>unique_key</th>\n",
       "      <th>complaint_type</th>\n",
       "      <th>incident_zip</th>\n",
       "      <th>incident_address</th>\n",
       "      <th>street_name</th>\n",
       "      <th>address_type</th>\n",
       "      <th>city</th>\n",
       "      <th>resolution_description</th>\n",
       "      <th>borough</th>\n",
       "      <th>latitude</th>\n",
       "      <th>longitude</th>\n",
       "      <th>closed_date</th>\n",
       "      <th>location_type</th>\n",
       "      <th>status</th>\n",
       "      <th>Year</th>\n",
       "    </tr>\n",
       "  </thead>\n",
       "  <tbody>\n",
       "    <tr>\n",
       "      <th>0</th>\n",
       "      <td>2020-08-17 17:06:01</td>\n",
       "      <td>47277816</td>\n",
       "      <td>PLUMBING</td>\n",
       "      <td>10468.0</td>\n",
       "      <td>95 WEST  195 STREET</td>\n",
       "      <td>WEST  195 STREET</td>\n",
       "      <td>ADDRESS</td>\n",
       "      <td>BRONX</td>\n",
       "      <td>The following complaint conditions are still o...</td>\n",
       "      <td>BRONX</td>\n",
       "      <td>40.869953</td>\n",
       "      <td>-73.899488</td>\n",
       "      <td>NaN</td>\n",
       "      <td>RESIDENTIAL BUILDING</td>\n",
       "      <td>0</td>\n",
       "      <td>2020</td>\n",
       "    </tr>\n",
       "    <tr>\n",
       "      <th>1</th>\n",
       "      <td>2020-08-17 10:12:47</td>\n",
       "      <td>47277264</td>\n",
       "      <td>PAINT/PLASTER</td>\n",
       "      <td>10303.0</td>\n",
       "      <td>55 HOLLAND AVENUE</td>\n",
       "      <td>HOLLAND AVENUE</td>\n",
       "      <td>ADDRESS</td>\n",
       "      <td>STATEN ISLAND</td>\n",
       "      <td>The following complaint conditions are still o...</td>\n",
       "      <td>STATEN ISLAND</td>\n",
       "      <td>40.638992</td>\n",
       "      <td>-74.171244</td>\n",
       "      <td>NaN</td>\n",
       "      <td>RESIDENTIAL BUILDING</td>\n",
       "      <td>0</td>\n",
       "      <td>2020</td>\n",
       "    </tr>\n",
       "    <tr>\n",
       "      <th>2</th>\n",
       "      <td>2020-08-17 13:47:57</td>\n",
       "      <td>47273051</td>\n",
       "      <td>WATER LEAK</td>\n",
       "      <td>11225.0</td>\n",
       "      <td>135 OCEAN AVENUE</td>\n",
       "      <td>OCEAN AVENUE</td>\n",
       "      <td>ADDRESS</td>\n",
       "      <td>BROOKLYN</td>\n",
       "      <td>The following complaint conditions are still o...</td>\n",
       "      <td>BROOKLYN</td>\n",
       "      <td>40.659590</td>\n",
       "      <td>-73.962656</td>\n",
       "      <td>NaN</td>\n",
       "      <td>RESIDENTIAL BUILDING</td>\n",
       "      <td>0</td>\n",
       "      <td>2020</td>\n",
       "    </tr>\n",
       "    <tr>\n",
       "      <th>3</th>\n",
       "      <td>2020-08-17 12:56:24</td>\n",
       "      <td>47275668</td>\n",
       "      <td>ELECTRIC</td>\n",
       "      <td>10075.0</td>\n",
       "      <td>337 EAST   77 STREET</td>\n",
       "      <td>EAST   77 STREET</td>\n",
       "      <td>ADDRESS</td>\n",
       "      <td>NEW YORK</td>\n",
       "      <td>The following complaint conditions are still o...</td>\n",
       "      <td>MANHATTAN</td>\n",
       "      <td>40.771623</td>\n",
       "      <td>-73.955048</td>\n",
       "      <td>NaN</td>\n",
       "      <td>RESIDENTIAL BUILDING</td>\n",
       "      <td>0</td>\n",
       "      <td>2020</td>\n",
       "    </tr>\n",
       "    <tr>\n",
       "      <th>4</th>\n",
       "      <td>2020-08-17 10:31:06</td>\n",
       "      <td>47274700</td>\n",
       "      <td>UNSANITARY CONDITION</td>\n",
       "      <td>10019.0</td>\n",
       "      <td>37 WEST   54 STREET</td>\n",
       "      <td>WEST   54 STREET</td>\n",
       "      <td>ADDRESS</td>\n",
       "      <td>NEW YORK</td>\n",
       "      <td>The following complaint conditions are still o...</td>\n",
       "      <td>MANHATTAN</td>\n",
       "      <td>40.761600</td>\n",
       "      <td>-73.976684</td>\n",
       "      <td>NaN</td>\n",
       "      <td>RESIDENTIAL BUILDING</td>\n",
       "      <td>0</td>\n",
       "      <td>2020</td>\n",
       "    </tr>\n",
       "  </tbody>\n",
       "</table>\n",
       "</div>"
      ],
      "text/plain": [
       "         created_date  unique_key        complaint_type  incident_zip  \\\n",
       "0 2020-08-17 17:06:01    47277816              PLUMBING       10468.0   \n",
       "1 2020-08-17 10:12:47    47277264         PAINT/PLASTER       10303.0   \n",
       "2 2020-08-17 13:47:57    47273051            WATER LEAK       11225.0   \n",
       "3 2020-08-17 12:56:24    47275668              ELECTRIC       10075.0   \n",
       "4 2020-08-17 10:31:06    47274700  UNSANITARY CONDITION       10019.0   \n",
       "\n",
       "       incident_address       street_name address_type           city  \\\n",
       "0   95 WEST  195 STREET  WEST  195 STREET      ADDRESS          BRONX   \n",
       "1     55 HOLLAND AVENUE    HOLLAND AVENUE      ADDRESS  STATEN ISLAND   \n",
       "2      135 OCEAN AVENUE      OCEAN AVENUE      ADDRESS       BROOKLYN   \n",
       "3  337 EAST   77 STREET  EAST   77 STREET      ADDRESS       NEW YORK   \n",
       "4   37 WEST   54 STREET  WEST   54 STREET      ADDRESS       NEW YORK   \n",
       "\n",
       "                              resolution_description        borough  \\\n",
       "0  The following complaint conditions are still o...          BRONX   \n",
       "1  The following complaint conditions are still o...  STATEN ISLAND   \n",
       "2  The following complaint conditions are still o...       BROOKLYN   \n",
       "3  The following complaint conditions are still o...      MANHATTAN   \n",
       "4  The following complaint conditions are still o...      MANHATTAN   \n",
       "\n",
       "    latitude  longitude closed_date         location_type status  Year  \n",
       "0  40.869953 -73.899488         NaN  RESIDENTIAL BUILDING      0  2020  \n",
       "1  40.638992 -74.171244         NaN  RESIDENTIAL BUILDING      0  2020  \n",
       "2  40.659590 -73.962656         NaN  RESIDENTIAL BUILDING      0  2020  \n",
       "3  40.771623 -73.955048         NaN  RESIDENTIAL BUILDING      0  2020  \n",
       "4  40.761600 -73.976684         NaN  RESIDENTIAL BUILDING      0  2020  "
      ]
     },
     "execution_count": 25,
     "metadata": {},
     "output_type": "execute_result"
    }
   ],
   "source": [
    "df_311.head()"
   ]
  },
  {
   "cell_type": "code",
   "execution_count": 26,
   "metadata": {},
   "outputs": [
    {
     "name": "stdout",
     "output_type": "stream",
     "text": [
      "<class 'pandas.core.frame.DataFrame'>\n",
      "Int64Index: 1679523 entries, 0 to 6192957\n",
      "Data columns (total 16 columns):\n",
      " #   Column                  Non-Null Count    Dtype         \n",
      "---  ------                  --------------    -----         \n",
      " 0   created_date            1679523 non-null  datetime64[ns]\n",
      " 1   unique_key              1679523 non-null  int64         \n",
      " 2   complaint_type          1679523 non-null  object        \n",
      " 3   incident_zip            1671414 non-null  float64       \n",
      " 4   incident_address        1679522 non-null  object        \n",
      " 5   street_name             1679522 non-null  object        \n",
      " 6   address_type            1669611 non-null  object        \n",
      " 7   city                    1671416 non-null  object        \n",
      " 8   resolution_description  1677152 non-null  object        \n",
      " 9   borough                 1679523 non-null  object        \n",
      " 10  latitude                1075974 non-null  float64       \n",
      " 11  longitude               1075974 non-null  float64       \n",
      " 12  closed_date             1650573 non-null  object        \n",
      " 13  location_type           1679523 non-null  object        \n",
      " 14  status                  1679523 non-null  object        \n",
      " 15  Year                    1679523 non-null  int64         \n",
      "dtypes: datetime64[ns](1), float64(3), int64(2), object(10)\n",
      "memory usage: 217.8+ MB\n"
     ]
    }
   ],
   "source": [
    "# Create df_311_BX, which only includes BRONX borough \n",
    "df_311_BX = df_311[df_311['borough'] == 'BRONX']\n",
    "df_311_BX.info()"
   ]
  },
  {
   "cell_type": "code",
   "execution_count": 27,
   "metadata": {},
   "outputs": [
    {
     "data": {
      "text/plain": [
       "created_date                   0\n",
       "unique_key                     0\n",
       "complaint_type                 0\n",
       "incident_zip                8109\n",
       "incident_address               1\n",
       "street_name                    1\n",
       "address_type                9912\n",
       "city                        8107\n",
       "resolution_description      2371\n",
       "borough                        0\n",
       "latitude                  603549\n",
       "longitude                 603549\n",
       "closed_date                28950\n",
       "location_type                  0\n",
       "status                         0\n",
       "Year                           0\n",
       "dtype: int64"
      ]
     },
     "execution_count": 27,
     "metadata": {},
     "output_type": "execute_result"
    }
   ],
   "source": [
    "df_311_BX.isnull().sum()\n",
    "# checking null values"
   ]
  },
  {
   "cell_type": "markdown",
   "metadata": {},
   "source": [
    "## STEP 1: Data Cleaning and Wrangling to get a DataFrame that lists Address and total number of HHW complaints for BRONX"
   ]
  },
  {
   "cell_type": "code",
   "execution_count": 28,
   "metadata": {
    "scrolled": true
   },
   "outputs": [
    {
     "name": "stderr",
     "output_type": "stream",
     "text": [
      "C:\\ProgramData\\Anaconda3\\lib\\site-packages\\ipykernel_launcher.py:2: SettingWithCopyWarning: \n",
      "A value is trying to be set on a copy of a slice from a DataFrame\n",
      "\n",
      "See the caveats in the documentation: https://pandas.pydata.org/pandas-docs/stable/user_guide/indexing.html#returning-a-view-versus-a-copy\n",
      "  \n"
     ]
    },
    {
     "data": {
      "text/plain": [
       "27058"
      ]
     },
     "execution_count": 28,
     "metadata": {},
     "output_type": "execute_result"
    }
   ],
   "source": [
    "#drop null in incident_address(only one row), and check number of unique incident_address\n",
    "df_311_BX.dropna(subset =['incident_address'], inplace = True)\n",
    "df_311_BX['incident_address'].nunique() # BRONX has 27058 unique addresses that filed a complaint "
   ]
  },
  {
   "cell_type": "code",
   "execution_count": 29,
   "metadata": {},
   "outputs": [
    {
     "data": {
      "text/plain": [
       "1025 BOYNTON AVENUE        9787\n",
       "3810 BAILEY AVENUE         7187\n",
       "2176 TIEBOUT AVENUE        5128\n",
       "3555 BRUCKNER BOULEVARD    4436\n",
       "750 GRAND CONCOURSE        4227\n",
       "Name: incident_address, dtype: int64"
      ]
     },
     "execution_count": 29,
     "metadata": {},
     "output_type": "execute_result"
    }
   ],
   "source": [
    "df_311_BX['incident_address'].value_counts().head()"
   ]
  },
  {
   "cell_type": "code",
   "execution_count": 30,
   "metadata": {},
   "outputs": [],
   "source": [
    "# put the results above to a DataFrame df_311_BX_addr, and rename the columns to Address and cnt (total # of complaints)\n",
    "df_311_BX_addr = pd.DataFrame(df_311_BX['incident_address'].value_counts()).reset_index()\n",
    "df_311_BX_addr.rename(columns ={'index': 'Address', 'incident_address': 'cnt'}, inplace = True)"
   ]
  },
  {
   "cell_type": "code",
   "execution_count": 31,
   "metadata": {},
   "outputs": [
    {
     "data": {
      "text/html": [
       "<div>\n",
       "<style scoped>\n",
       "    .dataframe tbody tr th:only-of-type {\n",
       "        vertical-align: middle;\n",
       "    }\n",
       "\n",
       "    .dataframe tbody tr th {\n",
       "        vertical-align: top;\n",
       "    }\n",
       "\n",
       "    .dataframe thead th {\n",
       "        text-align: right;\n",
       "    }\n",
       "</style>\n",
       "<table border=\"1\" class=\"dataframe\">\n",
       "  <thead>\n",
       "    <tr style=\"text-align: right;\">\n",
       "      <th></th>\n",
       "      <th>Address</th>\n",
       "      <th>cnt</th>\n",
       "    </tr>\n",
       "  </thead>\n",
       "  <tbody>\n",
       "    <tr>\n",
       "      <th>0</th>\n",
       "      <td>1025 BOYNTON AVENUE</td>\n",
       "      <td>9787</td>\n",
       "    </tr>\n",
       "    <tr>\n",
       "      <th>1</th>\n",
       "      <td>3810 BAILEY AVENUE</td>\n",
       "      <td>7187</td>\n",
       "    </tr>\n",
       "    <tr>\n",
       "      <th>2</th>\n",
       "      <td>2176 TIEBOUT AVENUE</td>\n",
       "      <td>5128</td>\n",
       "    </tr>\n",
       "    <tr>\n",
       "      <th>3</th>\n",
       "      <td>3555 BRUCKNER BOULEVARD</td>\n",
       "      <td>4436</td>\n",
       "    </tr>\n",
       "    <tr>\n",
       "      <th>4</th>\n",
       "      <td>750 GRAND CONCOURSE</td>\n",
       "      <td>4227</td>\n",
       "    </tr>\n",
       "  </tbody>\n",
       "</table>\n",
       "</div>"
      ],
      "text/plain": [
       "                   Address   cnt\n",
       "0      1025 BOYNTON AVENUE  9787\n",
       "1       3810 BAILEY AVENUE  7187\n",
       "2      2176 TIEBOUT AVENUE  5128\n",
       "3  3555 BRUCKNER BOULEVARD  4436\n",
       "4      750 GRAND CONCOURSE  4227"
      ]
     },
     "execution_count": 31,
     "metadata": {},
     "output_type": "execute_result"
    }
   ],
   "source": [
    "df_311_BX_addr.head()"
   ]
  },
  {
   "cell_type": "code",
   "execution_count": 32,
   "metadata": {},
   "outputs": [
    {
     "name": "stdout",
     "output_type": "stream",
     "text": [
      "<class 'pandas.core.frame.DataFrame'>\n",
      "RangeIndex: 27058 entries, 0 to 27057\n",
      "Data columns (total 2 columns):\n",
      " #   Column   Non-Null Count  Dtype \n",
      "---  ------   --------------  ----- \n",
      " 0   Address  27058 non-null  object\n",
      " 1   cnt      27058 non-null  int64 \n",
      "dtypes: int64(1), object(1)\n",
      "memory usage: 422.9+ KB\n"
     ]
    }
   ],
   "source": [
    "df_311_BX_addr.info()"
   ]
  },
  {
   "cell_type": "code",
   "execution_count": 33,
   "metadata": {},
   "outputs": [
    {
     "data": {
      "text/html": [
       "<div>\n",
       "<style scoped>\n",
       "    .dataframe tbody tr th:only-of-type {\n",
       "        vertical-align: middle;\n",
       "    }\n",
       "\n",
       "    .dataframe tbody tr th {\n",
       "        vertical-align: top;\n",
       "    }\n",
       "\n",
       "    .dataframe thead th {\n",
       "        text-align: right;\n",
       "    }\n",
       "</style>\n",
       "<table border=\"1\" class=\"dataframe\">\n",
       "  <thead>\n",
       "    <tr style=\"text-align: right;\">\n",
       "      <th></th>\n",
       "      <th>created_date</th>\n",
       "      <th>unique_key</th>\n",
       "      <th>complaint_type</th>\n",
       "      <th>incident_zip</th>\n",
       "      <th>incident_address</th>\n",
       "      <th>street_name</th>\n",
       "      <th>address_type</th>\n",
       "      <th>city</th>\n",
       "      <th>resolution_description</th>\n",
       "      <th>borough</th>\n",
       "      <th>latitude</th>\n",
       "      <th>longitude</th>\n",
       "      <th>closed_date</th>\n",
       "      <th>location_type</th>\n",
       "      <th>status</th>\n",
       "      <th>Year</th>\n",
       "    </tr>\n",
       "  </thead>\n",
       "  <tbody>\n",
       "    <tr>\n",
       "      <th>12</th>\n",
       "      <td>2020-08-17 18:57:38</td>\n",
       "      <td>47276192</td>\n",
       "      <td>HEAT/HOT WATER</td>\n",
       "      <td>10452.0</td>\n",
       "      <td>957 WOODYCREST AVENUE</td>\n",
       "      <td>WOODYCREST AVENUE</td>\n",
       "      <td>ADDRESS</td>\n",
       "      <td>BRONX</td>\n",
       "      <td>The complaint you filed is a duplicate of a co...</td>\n",
       "      <td>BRONX</td>\n",
       "      <td>40.831527</td>\n",
       "      <td>-73.928863</td>\n",
       "      <td>NaN</td>\n",
       "      <td>RESIDENTIAL BUILDING</td>\n",
       "      <td>0</td>\n",
       "      <td>2020</td>\n",
       "    </tr>\n",
       "    <tr>\n",
       "      <th>66</th>\n",
       "      <td>2020-08-17 18:05:13</td>\n",
       "      <td>47277814</td>\n",
       "      <td>HEAT/HOT WATER</td>\n",
       "      <td>10452.0</td>\n",
       "      <td>957 WOODYCREST AVENUE</td>\n",
       "      <td>WOODYCREST AVENUE</td>\n",
       "      <td>ADDRESS</td>\n",
       "      <td>BRONX</td>\n",
       "      <td>The complaint you filed is a duplicate of a co...</td>\n",
       "      <td>BRONX</td>\n",
       "      <td>40.831527</td>\n",
       "      <td>-73.928863</td>\n",
       "      <td>NaN</td>\n",
       "      <td>RESIDENTIAL BUILDING</td>\n",
       "      <td>0</td>\n",
       "      <td>2020</td>\n",
       "    </tr>\n",
       "    <tr>\n",
       "      <th>68</th>\n",
       "      <td>2020-08-17 21:12:54</td>\n",
       "      <td>47275858</td>\n",
       "      <td>HEAT/HOT WATER</td>\n",
       "      <td>10455.0</td>\n",
       "      <td>366 EAST  154 STREET</td>\n",
       "      <td>EAST  154 STREET</td>\n",
       "      <td>ADDRESS</td>\n",
       "      <td>BRONX</td>\n",
       "      <td>The complaint you filed is a duplicate of a co...</td>\n",
       "      <td>BRONX</td>\n",
       "      <td>40.819838</td>\n",
       "      <td>-73.917441</td>\n",
       "      <td>NaN</td>\n",
       "      <td>RESIDENTIAL BUILDING</td>\n",
       "      <td>0</td>\n",
       "      <td>2020</td>\n",
       "    </tr>\n",
       "    <tr>\n",
       "      <th>84</th>\n",
       "      <td>2020-08-17 10:12:59</td>\n",
       "      <td>47273032</td>\n",
       "      <td>HEAT/HOT WATER</td>\n",
       "      <td>10452.0</td>\n",
       "      <td>957 WOODYCREST AVENUE</td>\n",
       "      <td>WOODYCREST AVENUE</td>\n",
       "      <td>ADDRESS</td>\n",
       "      <td>BRONX</td>\n",
       "      <td>The complaint you filed is a duplicate of a co...</td>\n",
       "      <td>BRONX</td>\n",
       "      <td>40.831527</td>\n",
       "      <td>-73.928863</td>\n",
       "      <td>NaN</td>\n",
       "      <td>RESIDENTIAL BUILDING</td>\n",
       "      <td>0</td>\n",
       "      <td>2020</td>\n",
       "    </tr>\n",
       "    <tr>\n",
       "      <th>85</th>\n",
       "      <td>2020-08-17 01:06:02</td>\n",
       "      <td>47274740</td>\n",
       "      <td>HEAT/HOT WATER</td>\n",
       "      <td>10452.0</td>\n",
       "      <td>957 WOODYCREST AVENUE</td>\n",
       "      <td>WOODYCREST AVENUE</td>\n",
       "      <td>ADDRESS</td>\n",
       "      <td>BRONX</td>\n",
       "      <td>The complaint you filed is a duplicate of a co...</td>\n",
       "      <td>BRONX</td>\n",
       "      <td>40.831527</td>\n",
       "      <td>-73.928863</td>\n",
       "      <td>NaN</td>\n",
       "      <td>RESIDENTIAL BUILDING</td>\n",
       "      <td>0</td>\n",
       "      <td>2020</td>\n",
       "    </tr>\n",
       "  </tbody>\n",
       "</table>\n",
       "</div>"
      ],
      "text/plain": [
       "          created_date  unique_key  complaint_type  incident_zip  \\\n",
       "12 2020-08-17 18:57:38    47276192  HEAT/HOT WATER       10452.0   \n",
       "66 2020-08-17 18:05:13    47277814  HEAT/HOT WATER       10452.0   \n",
       "68 2020-08-17 21:12:54    47275858  HEAT/HOT WATER       10455.0   \n",
       "84 2020-08-17 10:12:59    47273032  HEAT/HOT WATER       10452.0   \n",
       "85 2020-08-17 01:06:02    47274740  HEAT/HOT WATER       10452.0   \n",
       "\n",
       "         incident_address        street_name address_type   city  \\\n",
       "12  957 WOODYCREST AVENUE  WOODYCREST AVENUE      ADDRESS  BRONX   \n",
       "66  957 WOODYCREST AVENUE  WOODYCREST AVENUE      ADDRESS  BRONX   \n",
       "68   366 EAST  154 STREET   EAST  154 STREET      ADDRESS  BRONX   \n",
       "84  957 WOODYCREST AVENUE  WOODYCREST AVENUE      ADDRESS  BRONX   \n",
       "85  957 WOODYCREST AVENUE  WOODYCREST AVENUE      ADDRESS  BRONX   \n",
       "\n",
       "                               resolution_description borough   latitude  \\\n",
       "12  The complaint you filed is a duplicate of a co...   BRONX  40.831527   \n",
       "66  The complaint you filed is a duplicate of a co...   BRONX  40.831527   \n",
       "68  The complaint you filed is a duplicate of a co...   BRONX  40.819838   \n",
       "84  The complaint you filed is a duplicate of a co...   BRONX  40.831527   \n",
       "85  The complaint you filed is a duplicate of a co...   BRONX  40.831527   \n",
       "\n",
       "    longitude closed_date         location_type status  Year  \n",
       "12 -73.928863         NaN  RESIDENTIAL BUILDING      0  2020  \n",
       "66 -73.928863         NaN  RESIDENTIAL BUILDING      0  2020  \n",
       "68 -73.917441         NaN  RESIDENTIAL BUILDING      0  2020  \n",
       "84 -73.928863         NaN  RESIDENTIAL BUILDING      0  2020  \n",
       "85 -73.928863         NaN  RESIDENTIAL BUILDING      0  2020  "
      ]
     },
     "execution_count": 33,
     "metadata": {},
     "output_type": "execute_result"
    }
   ],
   "source": [
    "# Extract out the rows in df_311_BX that has HHW complaints. \n",
    "# Note that the rows that had 0 HHW will be filtered out. We need to add them back later.\n",
    "df_311_BX_HHW = df_311_BX[df_311_BX['complaint_type'] == 'HEAT/HOT WATER']\n",
    "df_311_BX_HHW.head()"
   ]
  },
  {
   "cell_type": "code",
   "execution_count": 34,
   "metadata": {},
   "outputs": [
    {
     "data": {
      "text/plain": [
       "3810 BAILEY AVENUE           7119\n",
       "1025 BOYNTON AVENUE          5780\n",
       "2176 TIEBOUT AVENUE          4083\n",
       "2090 EAST TREMONT AVENUE     3837\n",
       "2040 BRONXDALE AVENUE        3131\n",
       "                             ... \n",
       "2715 CLAFLIN AVENUE             1\n",
       "859 EAST 242 STREET             1\n",
       "1741 ANDREWS AVENUE SOUTH       1\n",
       "8 EAST GUN HILL ROAD            1\n",
       "2068 VALENTINE AVENUE           1\n",
       "Name: incident_address, Length: 21248, dtype: int64"
      ]
     },
     "execution_count": 34,
     "metadata": {},
     "output_type": "execute_result"
    }
   ],
   "source": [
    "df_311_BX_HHW['incident_address'].value_counts()"
   ]
  },
  {
   "cell_type": "code",
   "execution_count": 35,
   "metadata": {},
   "outputs": [
    {
     "data": {
      "text/html": [
       "<div>\n",
       "<style scoped>\n",
       "    .dataframe tbody tr th:only-of-type {\n",
       "        vertical-align: middle;\n",
       "    }\n",
       "\n",
       "    .dataframe tbody tr th {\n",
       "        vertical-align: top;\n",
       "    }\n",
       "\n",
       "    .dataframe thead th {\n",
       "        text-align: right;\n",
       "    }\n",
       "</style>\n",
       "<table border=\"1\" class=\"dataframe\">\n",
       "  <thead>\n",
       "    <tr style=\"text-align: right;\">\n",
       "      <th></th>\n",
       "      <th>index</th>\n",
       "      <th>incident_address</th>\n",
       "    </tr>\n",
       "  </thead>\n",
       "  <tbody>\n",
       "    <tr>\n",
       "      <th>0</th>\n",
       "      <td>3810 BAILEY AVENUE</td>\n",
       "      <td>7119</td>\n",
       "    </tr>\n",
       "    <tr>\n",
       "      <th>1</th>\n",
       "      <td>1025 BOYNTON AVENUE</td>\n",
       "      <td>5780</td>\n",
       "    </tr>\n",
       "    <tr>\n",
       "      <th>2</th>\n",
       "      <td>2176 TIEBOUT AVENUE</td>\n",
       "      <td>4083</td>\n",
       "    </tr>\n",
       "    <tr>\n",
       "      <th>3</th>\n",
       "      <td>2090 EAST TREMONT AVENUE</td>\n",
       "      <td>3837</td>\n",
       "    </tr>\n",
       "    <tr>\n",
       "      <th>4</th>\n",
       "      <td>2040 BRONXDALE AVENUE</td>\n",
       "      <td>3131</td>\n",
       "    </tr>\n",
       "  </tbody>\n",
       "</table>\n",
       "</div>"
      ],
      "text/plain": [
       "                      index  incident_address\n",
       "0        3810 BAILEY AVENUE              7119\n",
       "1       1025 BOYNTON AVENUE              5780\n",
       "2       2176 TIEBOUT AVENUE              4083\n",
       "3  2090 EAST TREMONT AVENUE              3837\n",
       "4     2040 BRONXDALE AVENUE              3131"
      ]
     },
     "execution_count": 35,
     "metadata": {},
     "output_type": "execute_result"
    }
   ],
   "source": [
    "# put the results above to a DataFrame\n",
    "df_311_BX_HHW_cnt = pd.DataFrame(df_311_BX_HHW['incident_address'].value_counts()).reset_index()\n",
    "df_311_BX_HHW_cnt.head()"
   ]
  },
  {
   "cell_type": "code",
   "execution_count": 36,
   "metadata": {},
   "outputs": [
    {
     "data": {
      "text/html": [
       "<div>\n",
       "<style scoped>\n",
       "    .dataframe tbody tr th:only-of-type {\n",
       "        vertical-align: middle;\n",
       "    }\n",
       "\n",
       "    .dataframe tbody tr th {\n",
       "        vertical-align: top;\n",
       "    }\n",
       "\n",
       "    .dataframe thead th {\n",
       "        text-align: right;\n",
       "    }\n",
       "</style>\n",
       "<table border=\"1\" class=\"dataframe\">\n",
       "  <thead>\n",
       "    <tr style=\"text-align: right;\">\n",
       "      <th></th>\n",
       "      <th>Address</th>\n",
       "      <th>HHW_cnt</th>\n",
       "    </tr>\n",
       "  </thead>\n",
       "  <tbody>\n",
       "    <tr>\n",
       "      <th>0</th>\n",
       "      <td>3810 BAILEY AVENUE</td>\n",
       "      <td>7119</td>\n",
       "    </tr>\n",
       "    <tr>\n",
       "      <th>1</th>\n",
       "      <td>1025 BOYNTON AVENUE</td>\n",
       "      <td>5780</td>\n",
       "    </tr>\n",
       "    <tr>\n",
       "      <th>2</th>\n",
       "      <td>2176 TIEBOUT AVENUE</td>\n",
       "      <td>4083</td>\n",
       "    </tr>\n",
       "    <tr>\n",
       "      <th>3</th>\n",
       "      <td>2090 EAST TREMONT AVENUE</td>\n",
       "      <td>3837</td>\n",
       "    </tr>\n",
       "    <tr>\n",
       "      <th>4</th>\n",
       "      <td>2040 BRONXDALE AVENUE</td>\n",
       "      <td>3131</td>\n",
       "    </tr>\n",
       "  </tbody>\n",
       "</table>\n",
       "</div>"
      ],
      "text/plain": [
       "                    Address  HHW_cnt\n",
       "0        3810 BAILEY AVENUE     7119\n",
       "1       1025 BOYNTON AVENUE     5780\n",
       "2       2176 TIEBOUT AVENUE     4083\n",
       "3  2090 EAST TREMONT AVENUE     3837\n",
       "4     2040 BRONXDALE AVENUE     3131"
      ]
     },
     "execution_count": 36,
     "metadata": {},
     "output_type": "execute_result"
    }
   ],
   "source": [
    "df_311_BX_HHW_cnt = df_311_BX_HHW_cnt.rename(columns ={'index': 'Address','incident_address': 'HHW_cnt'})\n",
    "df_311_BX_HHW_cnt.head()"
   ]
  },
  {
   "cell_type": "code",
   "execution_count": 37,
   "metadata": {},
   "outputs": [
    {
     "name": "stdout",
     "output_type": "stream",
     "text": [
      "<class 'pandas.core.frame.DataFrame'>\n",
      "RangeIndex: 21248 entries, 0 to 21247\n",
      "Data columns (total 2 columns):\n",
      " #   Column   Non-Null Count  Dtype \n",
      "---  ------   --------------  ----- \n",
      " 0   Address  21248 non-null  object\n",
      " 1   HHW_cnt  21248 non-null  int64 \n",
      "dtypes: int64(1), object(1)\n",
      "memory usage: 332.1+ KB\n"
     ]
    }
   ],
   "source": [
    "df_311_BX_HHW_cnt.info()"
   ]
  },
  {
   "cell_type": "code",
   "execution_count": 38,
   "metadata": {},
   "outputs": [
    {
     "data": {
      "text/html": [
       "<div>\n",
       "<style scoped>\n",
       "    .dataframe tbody tr th:only-of-type {\n",
       "        vertical-align: middle;\n",
       "    }\n",
       "\n",
       "    .dataframe tbody tr th {\n",
       "        vertical-align: top;\n",
       "    }\n",
       "\n",
       "    .dataframe thead th {\n",
       "        text-align: right;\n",
       "    }\n",
       "</style>\n",
       "<table border=\"1\" class=\"dataframe\">\n",
       "  <thead>\n",
       "    <tr style=\"text-align: right;\">\n",
       "      <th></th>\n",
       "      <th>Address</th>\n",
       "      <th>cnt</th>\n",
       "      <th>HHW_cnt</th>\n",
       "    </tr>\n",
       "  </thead>\n",
       "  <tbody>\n",
       "    <tr>\n",
       "      <th>0</th>\n",
       "      <td>1025 BOYNTON AVENUE</td>\n",
       "      <td>9787</td>\n",
       "      <td>5780.0</td>\n",
       "    </tr>\n",
       "    <tr>\n",
       "      <th>1</th>\n",
       "      <td>3810 BAILEY AVENUE</td>\n",
       "      <td>7187</td>\n",
       "      <td>7119.0</td>\n",
       "    </tr>\n",
       "    <tr>\n",
       "      <th>2</th>\n",
       "      <td>2176 TIEBOUT AVENUE</td>\n",
       "      <td>5128</td>\n",
       "      <td>4083.0</td>\n",
       "    </tr>\n",
       "    <tr>\n",
       "      <th>3</th>\n",
       "      <td>3555 BRUCKNER BOULEVARD</td>\n",
       "      <td>4436</td>\n",
       "      <td>1460.0</td>\n",
       "    </tr>\n",
       "    <tr>\n",
       "      <th>4</th>\n",
       "      <td>750 GRAND CONCOURSE</td>\n",
       "      <td>4227</td>\n",
       "      <td>2163.0</td>\n",
       "    </tr>\n",
       "  </tbody>\n",
       "</table>\n",
       "</div>"
      ],
      "text/plain": [
       "                   Address   cnt  HHW_cnt\n",
       "0      1025 BOYNTON AVENUE  9787   5780.0\n",
       "1       3810 BAILEY AVENUE  7187   7119.0\n",
       "2      2176 TIEBOUT AVENUE  5128   4083.0\n",
       "3  3555 BRUCKNER BOULEVARD  4436   1460.0\n",
       "4      750 GRAND CONCOURSE  4227   2163.0"
      ]
     },
     "execution_count": 38,
     "metadata": {},
     "output_type": "execute_result"
    }
   ],
   "source": [
    "# Merge df_311_BX_addr and df_311_BX_HHW_cnt, and fillna to HHW_cnt column \n",
    "# (this is because Address with 0 HHW complaints were filtered out previously)\n",
    "df_cnt = pd.merge(df_311_BX_addr,df_311_BX_HHW_cnt, on ='Address', how = 'outer' )\n",
    "df_cnt.head()"
   ]
  },
  {
   "cell_type": "markdown",
   "metadata": {},
   "source": [
    "Note it is very important to get df_311_BX_addr since it keeps all the addresses that had 0 HHW complaint"
   ]
  },
  {
   "cell_type": "code",
   "execution_count": 39,
   "metadata": {},
   "outputs": [
    {
     "data": {
      "text/plain": [
       "Address       0\n",
       "cnt           0\n",
       "HHW_cnt    5810\n",
       "dtype: int64"
      ]
     },
     "execution_count": 39,
     "metadata": {},
     "output_type": "execute_result"
    }
   ],
   "source": [
    "df_cnt.isnull().sum()"
   ]
  },
  {
   "cell_type": "code",
   "execution_count": 40,
   "metadata": {},
   "outputs": [],
   "source": [
    "df_cnt['HHW_cnt'].fillna(0, inplace = True)"
   ]
  },
  {
   "cell_type": "markdown",
   "metadata": {},
   "source": [
    "### df_cnt (address vs. total number of HHW complaints for BRONX) is ready for merge"
   ]
  },
  {
   "cell_type": "markdown",
   "metadata": {},
   "source": [
    "## STEP 2: Data Cleaning and Wrangling to get a DataFrame that contains the housing characteristics of BRONX"
   ]
  },
  {
   "cell_type": "code",
   "execution_count": 41,
   "metadata": {},
   "outputs": [],
   "source": [
    "BX = pd.read_csv('BX_18v1.csv', usecols=['Address', 'BldgArea', 'BldgDepth', 'BuiltFAR', 'CommFAR', 'FacilFAR', 'Lot', \n",
    "                                         'LotArea', 'LotDepth', 'NumBldgs', 'NumFloors', 'OfficeArea', 'ResArea', 'ResidFAR', \n",
    "                                         'RetailArea', 'YearBuilt', 'YearAlter1', 'ZipCode', 'YCoord', 'XCoord'])"
   ]
  },
  {
   "cell_type": "code",
   "execution_count": 42,
   "metadata": {},
   "outputs": [
    {
     "data": {
      "text/html": [
       "<div>\n",
       "<style scoped>\n",
       "    .dataframe tbody tr th:only-of-type {\n",
       "        vertical-align: middle;\n",
       "    }\n",
       "\n",
       "    .dataframe tbody tr th {\n",
       "        vertical-align: top;\n",
       "    }\n",
       "\n",
       "    .dataframe thead th {\n",
       "        text-align: right;\n",
       "    }\n",
       "</style>\n",
       "<table border=\"1\" class=\"dataframe\">\n",
       "  <thead>\n",
       "    <tr style=\"text-align: right;\">\n",
       "      <th></th>\n",
       "      <th>Lot</th>\n",
       "      <th>ZipCode</th>\n",
       "      <th>Address</th>\n",
       "      <th>LotArea</th>\n",
       "      <th>BldgArea</th>\n",
       "      <th>ResArea</th>\n",
       "      <th>OfficeArea</th>\n",
       "      <th>RetailArea</th>\n",
       "      <th>NumBldgs</th>\n",
       "      <th>NumFloors</th>\n",
       "      <th>LotDepth</th>\n",
       "      <th>BldgDepth</th>\n",
       "      <th>YearBuilt</th>\n",
       "      <th>YearAlter1</th>\n",
       "      <th>BuiltFAR</th>\n",
       "      <th>ResidFAR</th>\n",
       "      <th>CommFAR</th>\n",
       "      <th>FacilFAR</th>\n",
       "      <th>XCoord</th>\n",
       "      <th>YCoord</th>\n",
       "    </tr>\n",
       "  </thead>\n",
       "  <tbody>\n",
       "    <tr>\n",
       "      <th>0</th>\n",
       "      <td>1</td>\n",
       "      <td>10454.0</td>\n",
       "      <td>122 BRUCKNER BOULEVARD</td>\n",
       "      <td>15000</td>\n",
       "      <td>0</td>\n",
       "      <td>0</td>\n",
       "      <td>0</td>\n",
       "      <td>0</td>\n",
       "      <td>1</td>\n",
       "      <td>0.0</td>\n",
       "      <td>200.0</td>\n",
       "      <td>0.0</td>\n",
       "      <td>0</td>\n",
       "      <td>0</td>\n",
       "      <td>0.00</td>\n",
       "      <td>6.02</td>\n",
       "      <td>5.0</td>\n",
       "      <td>6.5</td>\n",
       "      <td>1005957.0</td>\n",
       "      <td>232162.0</td>\n",
       "    </tr>\n",
       "    <tr>\n",
       "      <th>1</th>\n",
       "      <td>4</td>\n",
       "      <td>10454.0</td>\n",
       "      <td>126 BRUCKNER BOULEVARD</td>\n",
       "      <td>13770</td>\n",
       "      <td>752</td>\n",
       "      <td>0</td>\n",
       "      <td>272</td>\n",
       "      <td>0</td>\n",
       "      <td>2</td>\n",
       "      <td>1.0</td>\n",
       "      <td>100.0</td>\n",
       "      <td>16.0</td>\n",
       "      <td>1931</td>\n",
       "      <td>1994</td>\n",
       "      <td>0.05</td>\n",
       "      <td>6.02</td>\n",
       "      <td>5.0</td>\n",
       "      <td>6.5</td>\n",
       "      <td>1006076.0</td>\n",
       "      <td>232156.0</td>\n",
       "    </tr>\n",
       "    <tr>\n",
       "      <th>2</th>\n",
       "      <td>10</td>\n",
       "      <td>10454.0</td>\n",
       "      <td>138 BRUCKNER BOULEVARD</td>\n",
       "      <td>35000</td>\n",
       "      <td>39375</td>\n",
       "      <td>0</td>\n",
       "      <td>0</td>\n",
       "      <td>0</td>\n",
       "      <td>1</td>\n",
       "      <td>2.0</td>\n",
       "      <td>200.0</td>\n",
       "      <td>200.0</td>\n",
       "      <td>1931</td>\n",
       "      <td>0</td>\n",
       "      <td>1.13</td>\n",
       "      <td>6.02</td>\n",
       "      <td>5.0</td>\n",
       "      <td>6.5</td>\n",
       "      <td>1006187.0</td>\n",
       "      <td>232036.0</td>\n",
       "    </tr>\n",
       "    <tr>\n",
       "      <th>3</th>\n",
       "      <td>17</td>\n",
       "      <td>10454.0</td>\n",
       "      <td>144 BRUCKNER BOULEVARD</td>\n",
       "      <td>2500</td>\n",
       "      <td>12500</td>\n",
       "      <td>12500</td>\n",
       "      <td>0</td>\n",
       "      <td>0</td>\n",
       "      <td>1</td>\n",
       "      <td>5.0</td>\n",
       "      <td>100.0</td>\n",
       "      <td>85.0</td>\n",
       "      <td>1931</td>\n",
       "      <td>2001</td>\n",
       "      <td>5.00</td>\n",
       "      <td>6.02</td>\n",
       "      <td>5.0</td>\n",
       "      <td>6.5</td>\n",
       "      <td>1006299.0</td>\n",
       "      <td>232033.0</td>\n",
       "    </tr>\n",
       "    <tr>\n",
       "      <th>4</th>\n",
       "      <td>18</td>\n",
       "      <td>10454.0</td>\n",
       "      <td>148 BRUCKNER BOULEVARD</td>\n",
       "      <td>1875</td>\n",
       "      <td>8595</td>\n",
       "      <td>6876</td>\n",
       "      <td>0</td>\n",
       "      <td>1719</td>\n",
       "      <td>1</td>\n",
       "      <td>5.0</td>\n",
       "      <td>75.0</td>\n",
       "      <td>70.0</td>\n",
       "      <td>1920</td>\n",
       "      <td>2009</td>\n",
       "      <td>4.58</td>\n",
       "      <td>6.02</td>\n",
       "      <td>5.0</td>\n",
       "      <td>6.5</td>\n",
       "      <td>1006363.0</td>\n",
       "      <td>232040.0</td>\n",
       "    </tr>\n",
       "  </tbody>\n",
       "</table>\n",
       "</div>"
      ],
      "text/plain": [
       "   Lot  ZipCode                 Address  LotArea  BldgArea  ResArea  \\\n",
       "0    1  10454.0  122 BRUCKNER BOULEVARD    15000         0        0   \n",
       "1    4  10454.0  126 BRUCKNER BOULEVARD    13770       752        0   \n",
       "2   10  10454.0  138 BRUCKNER BOULEVARD    35000     39375        0   \n",
       "3   17  10454.0  144 BRUCKNER BOULEVARD     2500     12500    12500   \n",
       "4   18  10454.0  148 BRUCKNER BOULEVARD     1875      8595     6876   \n",
       "\n",
       "   OfficeArea  RetailArea  NumBldgs  NumFloors  LotDepth  BldgDepth  \\\n",
       "0           0           0         1        0.0     200.0        0.0   \n",
       "1         272           0         2        1.0     100.0       16.0   \n",
       "2           0           0         1        2.0     200.0      200.0   \n",
       "3           0           0         1        5.0     100.0       85.0   \n",
       "4           0        1719         1        5.0      75.0       70.0   \n",
       "\n",
       "   YearBuilt  YearAlter1  BuiltFAR  ResidFAR  CommFAR  FacilFAR     XCoord  \\\n",
       "0          0           0      0.00      6.02      5.0       6.5  1005957.0   \n",
       "1       1931        1994      0.05      6.02      5.0       6.5  1006076.0   \n",
       "2       1931           0      1.13      6.02      5.0       6.5  1006187.0   \n",
       "3       1931        2001      5.00      6.02      5.0       6.5  1006299.0   \n",
       "4       1920        2009      4.58      6.02      5.0       6.5  1006363.0   \n",
       "\n",
       "     YCoord  \n",
       "0  232162.0  \n",
       "1  232156.0  \n",
       "2  232036.0  \n",
       "3  232033.0  \n",
       "4  232040.0  "
      ]
     },
     "execution_count": 42,
     "metadata": {},
     "output_type": "execute_result"
    }
   ],
   "source": [
    "BX.head()"
   ]
  },
  {
   "cell_type": "code",
   "execution_count": 43,
   "metadata": {},
   "outputs": [],
   "source": [
    "#replace invalid value of 0 in 'YearBuilt' column by the mean value \n",
    "BX['YearBuilt'] = np.where(BX['YearBuilt'] ==0, BX['YearBuilt'].mean(), BX['YearBuilt'])"
   ]
  },
  {
   "cell_type": "code",
   "execution_count": 44,
   "metadata": {},
   "outputs": [],
   "source": [
    "# drop 'YearAlter1' since it has too many 0 values \n",
    "BX.drop(columns =['YearAlter1'], inplace = True)"
   ]
  },
  {
   "cell_type": "code",
   "execution_count": 45,
   "metadata": {},
   "outputs": [
    {
     "data": {
      "text/plain": [
       "Lot              0\n",
       "ZipCode        329\n",
       "Address         69\n",
       "LotArea          0\n",
       "BldgArea         0\n",
       "ResArea          0\n",
       "OfficeArea       0\n",
       "RetailArea       0\n",
       "NumBldgs         0\n",
       "NumFloors        0\n",
       "LotDepth         0\n",
       "BldgDepth        0\n",
       "YearBuilt        0\n",
       "BuiltFAR         0\n",
       "ResidFAR         0\n",
       "CommFAR          0\n",
       "FacilFAR         0\n",
       "XCoord        3259\n",
       "YCoord        3259\n",
       "dtype: int64"
      ]
     },
     "execution_count": 45,
     "metadata": {},
     "output_type": "execute_result"
    }
   ],
   "source": [
    "BX.isnull().sum()"
   ]
  },
  {
   "cell_type": "code",
   "execution_count": 46,
   "metadata": {},
   "outputs": [
    {
     "data": {
      "text/plain": [
       "SHORE DRIVE              42\n",
       "PALISADE AVENUE          37\n",
       "WHITE PLAINS ROAD        35\n",
       "PARK AVENUE              35\n",
       "BRUCKNER BOULEVARD       34\n",
       "                         ..\n",
       "1740 BOGART AVENUE        1\n",
       "2305 MICKLE AVENUE        1\n",
       "1520 ROSELLE STREET       1\n",
       "2830 OLINVILLE AVENUE     1\n",
       "2702 LATTING STREET       1\n",
       "Name: Address, Length: 87017, dtype: int64"
      ]
     },
     "execution_count": 46,
     "metadata": {},
     "output_type": "execute_result"
    }
   ],
   "source": [
    "BX['Address'].value_counts()\n",
    "# there are quite a few duplicates in 'Address'. "
   ]
  },
  {
   "cell_type": "code",
   "execution_count": 47,
   "metadata": {},
   "outputs": [],
   "source": [
    "# remove duplicates in 'Address'\n",
    "BX.drop_duplicates(subset =['Address'], inplace = True)"
   ]
  },
  {
   "cell_type": "code",
   "execution_count": 48,
   "metadata": {},
   "outputs": [
    {
     "data": {
      "text/plain": [
       "2869 PHILIP AVENUE         1\n",
       "4511 MONTICELLO AVENUE     1\n",
       "862 EAST 222 STREET        1\n",
       "419 CASTLE HILL AVENUE     1\n",
       "1008 RHINELANDER AVENUE    1\n",
       "                          ..\n",
       "109 BRUCKNER BOULEVARD     1\n",
       "1421 EDWARDS AVENUE        1\n",
       "486 MINNIEFORD AVENUE      1\n",
       "4358 GRACE AVENUE          1\n",
       "2702 LATTING STREET        1\n",
       "Name: Address, Length: 87017, dtype: int64"
      ]
     },
     "execution_count": 48,
     "metadata": {},
     "output_type": "execute_result"
    }
   ],
   "source": [
    "BX['Address'].value_counts()\n",
    "# now there is no duplicates in'Address'"
   ]
  },
  {
   "cell_type": "code",
   "execution_count": 49,
   "metadata": {},
   "outputs": [
    {
     "data": {
      "text/plain": [
       "Lot              0\n",
       "ZipCode         61\n",
       "Address          1\n",
       "LotArea          0\n",
       "BldgArea         0\n",
       "ResArea          0\n",
       "OfficeArea       0\n",
       "RetailArea       0\n",
       "NumBldgs         0\n",
       "NumFloors        0\n",
       "LotDepth         0\n",
       "BldgDepth        0\n",
       "YearBuilt        0\n",
       "BuiltFAR         0\n",
       "ResidFAR         0\n",
       "CommFAR          0\n",
       "FacilFAR         0\n",
       "XCoord        1312\n",
       "YCoord        1312\n",
       "dtype: int64"
      ]
     },
     "execution_count": 49,
     "metadata": {},
     "output_type": "execute_result"
    }
   ],
   "source": [
    "BX.isnull().sum()"
   ]
  },
  {
   "cell_type": "code",
   "execution_count": 50,
   "metadata": {},
   "outputs": [],
   "source": [
    "# drop rows with na values in 'Address' column \n",
    "BX.dropna(subset = ['Address'], inplace = True)"
   ]
  },
  {
   "cell_type": "code",
   "execution_count": 51,
   "metadata": {},
   "outputs": [
    {
     "data": {
      "text/plain": [
       "Lot              0\n",
       "ZipCode         61\n",
       "Address          0\n",
       "LotArea          0\n",
       "BldgArea         0\n",
       "ResArea          0\n",
       "OfficeArea       0\n",
       "RetailArea       0\n",
       "NumBldgs         0\n",
       "NumFloors        0\n",
       "LotDepth         0\n",
       "BldgDepth        0\n",
       "YearBuilt        0\n",
       "BuiltFAR         0\n",
       "ResidFAR         0\n",
       "CommFAR          0\n",
       "FacilFAR         0\n",
       "XCoord        1311\n",
       "YCoord        1311\n",
       "dtype: int64"
      ]
     },
     "execution_count": 51,
     "metadata": {},
     "output_type": "execute_result"
    }
   ],
   "source": [
    "BX.isnull().sum()"
   ]
  },
  {
   "cell_type": "markdown",
   "metadata": {},
   "source": [
    "## STEP3: Merge df_cnt and BX ON address according to BX"
   ]
  },
  {
   "cell_type": "code",
   "execution_count": 52,
   "metadata": {},
   "outputs": [],
   "source": [
    "df = pd.merge(df_cnt, BX, on = 'Address', how = 'right')"
   ]
  },
  {
   "cell_type": "code",
   "execution_count": 53,
   "metadata": {},
   "outputs": [
    {
     "name": "stdout",
     "output_type": "stream",
     "text": [
      "<class 'pandas.core.frame.DataFrame'>\n",
      "Int64Index: 87017 entries, 0 to 87016\n",
      "Data columns (total 21 columns):\n",
      " #   Column      Non-Null Count  Dtype  \n",
      "---  ------      --------------  -----  \n",
      " 0   Address     87017 non-null  object \n",
      " 1   cnt         23055 non-null  float64\n",
      " 2   HHW_cnt     23055 non-null  float64\n",
      " 3   Lot         87017 non-null  int64  \n",
      " 4   ZipCode     86956 non-null  float64\n",
      " 5   LotArea     87017 non-null  int64  \n",
      " 6   BldgArea    87017 non-null  int64  \n",
      " 7   ResArea     87017 non-null  int64  \n",
      " 8   OfficeArea  87017 non-null  int64  \n",
      " 9   RetailArea  87017 non-null  int64  \n",
      " 10  NumBldgs    87017 non-null  int64  \n",
      " 11  NumFloors   87017 non-null  float64\n",
      " 12  LotDepth    87017 non-null  float64\n",
      " 13  BldgDepth   87017 non-null  float64\n",
      " 14  YearBuilt   87017 non-null  float64\n",
      " 15  BuiltFAR    87017 non-null  float64\n",
      " 16  ResidFAR    87017 non-null  float64\n",
      " 17  CommFAR     87017 non-null  float64\n",
      " 18  FacilFAR    87017 non-null  float64\n",
      " 19  XCoord      85706 non-null  float64\n",
      " 20  YCoord      85706 non-null  float64\n",
      "dtypes: float64(13), int64(7), object(1)\n",
      "memory usage: 14.6+ MB\n"
     ]
    }
   ],
   "source": [
    "df.info()"
   ]
  },
  {
   "cell_type": "code",
   "execution_count": 54,
   "metadata": {},
   "outputs": [
    {
     "data": {
      "text/html": [
       "<div>\n",
       "<style scoped>\n",
       "    .dataframe tbody tr th:only-of-type {\n",
       "        vertical-align: middle;\n",
       "    }\n",
       "\n",
       "    .dataframe tbody tr th {\n",
       "        vertical-align: top;\n",
       "    }\n",
       "\n",
       "    .dataframe thead th {\n",
       "        text-align: right;\n",
       "    }\n",
       "</style>\n",
       "<table border=\"1\" class=\"dataframe\">\n",
       "  <thead>\n",
       "    <tr style=\"text-align: right;\">\n",
       "      <th></th>\n",
       "      <th>Address</th>\n",
       "      <th>cnt</th>\n",
       "      <th>HHW_cnt</th>\n",
       "      <th>Lot</th>\n",
       "      <th>ZipCode</th>\n",
       "      <th>LotArea</th>\n",
       "      <th>BldgArea</th>\n",
       "      <th>ResArea</th>\n",
       "      <th>OfficeArea</th>\n",
       "      <th>RetailArea</th>\n",
       "      <th>...</th>\n",
       "      <th>NumFloors</th>\n",
       "      <th>LotDepth</th>\n",
       "      <th>BldgDepth</th>\n",
       "      <th>YearBuilt</th>\n",
       "      <th>BuiltFAR</th>\n",
       "      <th>ResidFAR</th>\n",
       "      <th>CommFAR</th>\n",
       "      <th>FacilFAR</th>\n",
       "      <th>XCoord</th>\n",
       "      <th>YCoord</th>\n",
       "    </tr>\n",
       "  </thead>\n",
       "  <tbody>\n",
       "    <tr>\n",
       "      <th>0</th>\n",
       "      <td>1025 BOYNTON AVENUE</td>\n",
       "      <td>9787.0</td>\n",
       "      <td>5780.0</td>\n",
       "      <td>54</td>\n",
       "      <td>10472.0</td>\n",
       "      <td>12319</td>\n",
       "      <td>61500</td>\n",
       "      <td>61500</td>\n",
       "      <td>0</td>\n",
       "      <td>0</td>\n",
       "      <td>...</td>\n",
       "      <td>6.0</td>\n",
       "      <td>100.0</td>\n",
       "      <td>87.00</td>\n",
       "      <td>1931.0</td>\n",
       "      <td>4.99</td>\n",
       "      <td>2.43</td>\n",
       "      <td>0.0</td>\n",
       "      <td>4.8</td>\n",
       "      <td>1018133.0</td>\n",
       "      <td>239710.0</td>\n",
       "    </tr>\n",
       "    <tr>\n",
       "      <th>1</th>\n",
       "      <td>3810 BAILEY AVENUE</td>\n",
       "      <td>7187.0</td>\n",
       "      <td>7119.0</td>\n",
       "      <td>7</td>\n",
       "      <td>10463.0</td>\n",
       "      <td>21320</td>\n",
       "      <td>54001</td>\n",
       "      <td>54000</td>\n",
       "      <td>0</td>\n",
       "      <td>0</td>\n",
       "      <td>...</td>\n",
       "      <td>5.0</td>\n",
       "      <td>164.0</td>\n",
       "      <td>92.00</td>\n",
       "      <td>1925.0</td>\n",
       "      <td>2.53</td>\n",
       "      <td>3.44</td>\n",
       "      <td>0.0</td>\n",
       "      <td>4.8</td>\n",
       "      <td>1012722.0</td>\n",
       "      <td>261446.0</td>\n",
       "    </tr>\n",
       "    <tr>\n",
       "      <th>2</th>\n",
       "      <td>2176 TIEBOUT AVENUE</td>\n",
       "      <td>5128.0</td>\n",
       "      <td>4083.0</td>\n",
       "      <td>130</td>\n",
       "      <td>10457.0</td>\n",
       "      <td>18633</td>\n",
       "      <td>53000</td>\n",
       "      <td>48000</td>\n",
       "      <td>0</td>\n",
       "      <td>5000</td>\n",
       "      <td>...</td>\n",
       "      <td>6.0</td>\n",
       "      <td>124.0</td>\n",
       "      <td>124.00</td>\n",
       "      <td>1927.0</td>\n",
       "      <td>2.84</td>\n",
       "      <td>3.44</td>\n",
       "      <td>0.0</td>\n",
       "      <td>4.8</td>\n",
       "      <td>1012426.0</td>\n",
       "      <td>250617.0</td>\n",
       "    </tr>\n",
       "    <tr>\n",
       "      <th>3</th>\n",
       "      <td>3555 BRUCKNER BOULEVARD</td>\n",
       "      <td>4436.0</td>\n",
       "      <td>1460.0</td>\n",
       "      <td>10</td>\n",
       "      <td>10461.0</td>\n",
       "      <td>17500</td>\n",
       "      <td>112000</td>\n",
       "      <td>112000</td>\n",
       "      <td>0</td>\n",
       "      <td>0</td>\n",
       "      <td>...</td>\n",
       "      <td>12.0</td>\n",
       "      <td>100.0</td>\n",
       "      <td>53.33</td>\n",
       "      <td>1960.0</td>\n",
       "      <td>6.40</td>\n",
       "      <td>3.44</td>\n",
       "      <td>0.0</td>\n",
       "      <td>4.8</td>\n",
       "      <td>1031866.0</td>\n",
       "      <td>248258.0</td>\n",
       "    </tr>\n",
       "    <tr>\n",
       "      <th>4</th>\n",
       "      <td>750 GRAND CONCOURSE</td>\n",
       "      <td>4227.0</td>\n",
       "      <td>2163.0</td>\n",
       "      <td>26</td>\n",
       "      <td>10451.0</td>\n",
       "      <td>20800</td>\n",
       "      <td>123000</td>\n",
       "      <td>123000</td>\n",
       "      <td>0</td>\n",
       "      <td>0</td>\n",
       "      <td>...</td>\n",
       "      <td>6.0</td>\n",
       "      <td>120.7</td>\n",
       "      <td>110.00</td>\n",
       "      <td>1937.0</td>\n",
       "      <td>5.91</td>\n",
       "      <td>6.02</td>\n",
       "      <td>0.0</td>\n",
       "      <td>6.5</td>\n",
       "      <td>1005249.0</td>\n",
       "      <td>239122.0</td>\n",
       "    </tr>\n",
       "  </tbody>\n",
       "</table>\n",
       "<p>5 rows × 21 columns</p>\n",
       "</div>"
      ],
      "text/plain": [
       "                   Address     cnt  HHW_cnt  Lot  ZipCode  LotArea  BldgArea  \\\n",
       "0      1025 BOYNTON AVENUE  9787.0   5780.0   54  10472.0    12319     61500   \n",
       "1       3810 BAILEY AVENUE  7187.0   7119.0    7  10463.0    21320     54001   \n",
       "2      2176 TIEBOUT AVENUE  5128.0   4083.0  130  10457.0    18633     53000   \n",
       "3  3555 BRUCKNER BOULEVARD  4436.0   1460.0   10  10461.0    17500    112000   \n",
       "4      750 GRAND CONCOURSE  4227.0   2163.0   26  10451.0    20800    123000   \n",
       "\n",
       "   ResArea  OfficeArea  RetailArea  ...  NumFloors  LotDepth  BldgDepth  \\\n",
       "0    61500           0           0  ...        6.0     100.0      87.00   \n",
       "1    54000           0           0  ...        5.0     164.0      92.00   \n",
       "2    48000           0        5000  ...        6.0     124.0     124.00   \n",
       "3   112000           0           0  ...       12.0     100.0      53.33   \n",
       "4   123000           0           0  ...        6.0     120.7     110.00   \n",
       "\n",
       "   YearBuilt  BuiltFAR  ResidFAR  CommFAR  FacilFAR     XCoord    YCoord  \n",
       "0     1931.0      4.99      2.43      0.0       4.8  1018133.0  239710.0  \n",
       "1     1925.0      2.53      3.44      0.0       4.8  1012722.0  261446.0  \n",
       "2     1927.0      2.84      3.44      0.0       4.8  1012426.0  250617.0  \n",
       "3     1960.0      6.40      3.44      0.0       4.8  1031866.0  248258.0  \n",
       "4     1937.0      5.91      6.02      0.0       6.5  1005249.0  239122.0  \n",
       "\n",
       "[5 rows x 21 columns]"
      ]
     },
     "execution_count": 54,
     "metadata": {},
     "output_type": "execute_result"
    }
   ],
   "source": [
    "df.head()"
   ]
  },
  {
   "cell_type": "markdown",
   "metadata": {},
   "source": [
    "## STEP4: Data Cleaning, Feature Engineering, Feature Selection to get ready for model buidling"
   ]
  },
  {
   "cell_type": "code",
   "execution_count": 55,
   "metadata": {},
   "outputs": [],
   "source": [
    "# add an 'Age' feature according to 'YearBuilt'\n",
    "df['Age'] = df['YearBuilt'].apply(lambda x: 2020-x)"
   ]
  },
  {
   "cell_type": "code",
   "execution_count": 56,
   "metadata": {},
   "outputs": [
    {
     "data": {
      "text/plain": [
       "Address           0\n",
       "cnt           63962\n",
       "HHW_cnt       63962\n",
       "Lot               0\n",
       "ZipCode          61\n",
       "LotArea           0\n",
       "BldgArea          0\n",
       "ResArea           0\n",
       "OfficeArea        0\n",
       "RetailArea        0\n",
       "NumBldgs          0\n",
       "NumFloors         0\n",
       "LotDepth          0\n",
       "BldgDepth         0\n",
       "YearBuilt         0\n",
       "BuiltFAR          0\n",
       "ResidFAR          0\n",
       "CommFAR           0\n",
       "FacilFAR          0\n",
       "XCoord         1311\n",
       "YCoord         1311\n",
       "Age               0\n",
       "dtype: int64"
      ]
     },
     "execution_count": 56,
     "metadata": {},
     "output_type": "execute_result"
    }
   ],
   "source": [
    "df.isnull().sum()"
   ]
  },
  {
   "cell_type": "code",
   "execution_count": 57,
   "metadata": {},
   "outputs": [],
   "source": [
    "# filling na in HHW_cnt as zero \n",
    "df['HHW_cnt'].fillna(0, inplace = True)"
   ]
  },
  {
   "cell_type": "code",
   "execution_count": 58,
   "metadata": {},
   "outputs": [],
   "source": [
    "df.drop(columns =['cnt','YearBuilt'], inplace = True)"
   ]
  },
  {
   "cell_type": "code",
   "execution_count": 59,
   "metadata": {},
   "outputs": [],
   "source": [
    "df['ZipCode'].fillna(0, inplace = True)"
   ]
  },
  {
   "cell_type": "code",
   "execution_count": 60,
   "metadata": {},
   "outputs": [],
   "source": [
    "df['XCoord'].fillna(df['XCoord'].mean(), inplace = True)"
   ]
  },
  {
   "cell_type": "code",
   "execution_count": 61,
   "metadata": {},
   "outputs": [],
   "source": [
    "df['YCoord'].fillna(df['YCoord'].mean(), inplace = True)"
   ]
  },
  {
   "cell_type": "code",
   "execution_count": 62,
   "metadata": {},
   "outputs": [
    {
     "data": {
      "text/plain": [
       "Address       0\n",
       "HHW_cnt       0\n",
       "Lot           0\n",
       "ZipCode       0\n",
       "LotArea       0\n",
       "BldgArea      0\n",
       "ResArea       0\n",
       "OfficeArea    0\n",
       "RetailArea    0\n",
       "NumBldgs      0\n",
       "NumFloors     0\n",
       "LotDepth      0\n",
       "BldgDepth     0\n",
       "BuiltFAR      0\n",
       "ResidFAR      0\n",
       "CommFAR       0\n",
       "FacilFAR      0\n",
       "XCoord        0\n",
       "YCoord        0\n",
       "Age           0\n",
       "dtype: int64"
      ]
     },
     "execution_count": 62,
     "metadata": {},
     "output_type": "execute_result"
    }
   ],
   "source": [
    "df.isnull().sum()"
   ]
  },
  {
   "cell_type": "code",
   "execution_count": 63,
   "metadata": {},
   "outputs": [
    {
     "data": {
      "text/html": [
       "<div>\n",
       "<style scoped>\n",
       "    .dataframe tbody tr th:only-of-type {\n",
       "        vertical-align: middle;\n",
       "    }\n",
       "\n",
       "    .dataframe tbody tr th {\n",
       "        vertical-align: top;\n",
       "    }\n",
       "\n",
       "    .dataframe thead th {\n",
       "        text-align: right;\n",
       "    }\n",
       "</style>\n",
       "<table border=\"1\" class=\"dataframe\">\n",
       "  <thead>\n",
       "    <tr style=\"text-align: right;\">\n",
       "      <th></th>\n",
       "      <th>Address</th>\n",
       "      <th>HHW_cnt</th>\n",
       "      <th>Lot</th>\n",
       "      <th>ZipCode</th>\n",
       "      <th>LotArea</th>\n",
       "      <th>BldgArea</th>\n",
       "      <th>ResArea</th>\n",
       "      <th>OfficeArea</th>\n",
       "      <th>RetailArea</th>\n",
       "      <th>NumBldgs</th>\n",
       "      <th>NumFloors</th>\n",
       "      <th>LotDepth</th>\n",
       "      <th>BldgDepth</th>\n",
       "      <th>BuiltFAR</th>\n",
       "      <th>ResidFAR</th>\n",
       "      <th>CommFAR</th>\n",
       "      <th>FacilFAR</th>\n",
       "      <th>XCoord</th>\n",
       "      <th>YCoord</th>\n",
       "      <th>Age</th>\n",
       "    </tr>\n",
       "  </thead>\n",
       "  <tbody>\n",
       "    <tr>\n",
       "      <th>0</th>\n",
       "      <td>1025 BOYNTON AVENUE</td>\n",
       "      <td>5780.0</td>\n",
       "      <td>54</td>\n",
       "      <td>10472.0</td>\n",
       "      <td>12319</td>\n",
       "      <td>61500</td>\n",
       "      <td>61500</td>\n",
       "      <td>0</td>\n",
       "      <td>0</td>\n",
       "      <td>1</td>\n",
       "      <td>6.0</td>\n",
       "      <td>100.0</td>\n",
       "      <td>87.00</td>\n",
       "      <td>4.99</td>\n",
       "      <td>2.43</td>\n",
       "      <td>0.0</td>\n",
       "      <td>4.8</td>\n",
       "      <td>1018133.0</td>\n",
       "      <td>239710.0</td>\n",
       "      <td>89.0</td>\n",
       "    </tr>\n",
       "    <tr>\n",
       "      <th>1</th>\n",
       "      <td>3810 BAILEY AVENUE</td>\n",
       "      <td>7119.0</td>\n",
       "      <td>7</td>\n",
       "      <td>10463.0</td>\n",
       "      <td>21320</td>\n",
       "      <td>54001</td>\n",
       "      <td>54000</td>\n",
       "      <td>0</td>\n",
       "      <td>0</td>\n",
       "      <td>1</td>\n",
       "      <td>5.0</td>\n",
       "      <td>164.0</td>\n",
       "      <td>92.00</td>\n",
       "      <td>2.53</td>\n",
       "      <td>3.44</td>\n",
       "      <td>0.0</td>\n",
       "      <td>4.8</td>\n",
       "      <td>1012722.0</td>\n",
       "      <td>261446.0</td>\n",
       "      <td>95.0</td>\n",
       "    </tr>\n",
       "    <tr>\n",
       "      <th>2</th>\n",
       "      <td>2176 TIEBOUT AVENUE</td>\n",
       "      <td>4083.0</td>\n",
       "      <td>130</td>\n",
       "      <td>10457.0</td>\n",
       "      <td>18633</td>\n",
       "      <td>53000</td>\n",
       "      <td>48000</td>\n",
       "      <td>0</td>\n",
       "      <td>5000</td>\n",
       "      <td>1</td>\n",
       "      <td>6.0</td>\n",
       "      <td>124.0</td>\n",
       "      <td>124.00</td>\n",
       "      <td>2.84</td>\n",
       "      <td>3.44</td>\n",
       "      <td>0.0</td>\n",
       "      <td>4.8</td>\n",
       "      <td>1012426.0</td>\n",
       "      <td>250617.0</td>\n",
       "      <td>93.0</td>\n",
       "    </tr>\n",
       "    <tr>\n",
       "      <th>3</th>\n",
       "      <td>3555 BRUCKNER BOULEVARD</td>\n",
       "      <td>1460.0</td>\n",
       "      <td>10</td>\n",
       "      <td>10461.0</td>\n",
       "      <td>17500</td>\n",
       "      <td>112000</td>\n",
       "      <td>112000</td>\n",
       "      <td>0</td>\n",
       "      <td>0</td>\n",
       "      <td>1</td>\n",
       "      <td>12.0</td>\n",
       "      <td>100.0</td>\n",
       "      <td>53.33</td>\n",
       "      <td>6.40</td>\n",
       "      <td>3.44</td>\n",
       "      <td>0.0</td>\n",
       "      <td>4.8</td>\n",
       "      <td>1031866.0</td>\n",
       "      <td>248258.0</td>\n",
       "      <td>60.0</td>\n",
       "    </tr>\n",
       "    <tr>\n",
       "      <th>4</th>\n",
       "      <td>750 GRAND CONCOURSE</td>\n",
       "      <td>2163.0</td>\n",
       "      <td>26</td>\n",
       "      <td>10451.0</td>\n",
       "      <td>20800</td>\n",
       "      <td>123000</td>\n",
       "      <td>123000</td>\n",
       "      <td>0</td>\n",
       "      <td>0</td>\n",
       "      <td>1</td>\n",
       "      <td>6.0</td>\n",
       "      <td>120.7</td>\n",
       "      <td>110.00</td>\n",
       "      <td>5.91</td>\n",
       "      <td>6.02</td>\n",
       "      <td>0.0</td>\n",
       "      <td>6.5</td>\n",
       "      <td>1005249.0</td>\n",
       "      <td>239122.0</td>\n",
       "      <td>83.0</td>\n",
       "    </tr>\n",
       "  </tbody>\n",
       "</table>\n",
       "</div>"
      ],
      "text/plain": [
       "                   Address  HHW_cnt  Lot  ZipCode  LotArea  BldgArea  ResArea  \\\n",
       "0      1025 BOYNTON AVENUE   5780.0   54  10472.0    12319     61500    61500   \n",
       "1       3810 BAILEY AVENUE   7119.0    7  10463.0    21320     54001    54000   \n",
       "2      2176 TIEBOUT AVENUE   4083.0  130  10457.0    18633     53000    48000   \n",
       "3  3555 BRUCKNER BOULEVARD   1460.0   10  10461.0    17500    112000   112000   \n",
       "4      750 GRAND CONCOURSE   2163.0   26  10451.0    20800    123000   123000   \n",
       "\n",
       "   OfficeArea  RetailArea  NumBldgs  NumFloors  LotDepth  BldgDepth  BuiltFAR  \\\n",
       "0           0           0         1        6.0     100.0      87.00      4.99   \n",
       "1           0           0         1        5.0     164.0      92.00      2.53   \n",
       "2           0        5000         1        6.0     124.0     124.00      2.84   \n",
       "3           0           0         1       12.0     100.0      53.33      6.40   \n",
       "4           0           0         1        6.0     120.7     110.00      5.91   \n",
       "\n",
       "   ResidFAR  CommFAR  FacilFAR     XCoord    YCoord   Age  \n",
       "0      2.43      0.0       4.8  1018133.0  239710.0  89.0  \n",
       "1      3.44      0.0       4.8  1012722.0  261446.0  95.0  \n",
       "2      3.44      0.0       4.8  1012426.0  250617.0  93.0  \n",
       "3      3.44      0.0       4.8  1031866.0  248258.0  60.0  \n",
       "4      6.02      0.0       6.5  1005249.0  239122.0  83.0  "
      ]
     },
     "execution_count": 63,
     "metadata": {},
     "output_type": "execute_result"
    }
   ],
   "source": [
    "df.head()"
   ]
  },
  {
   "cell_type": "code",
   "execution_count": 64,
   "metadata": {},
   "outputs": [
    {
     "data": {
      "text/plain": [
       "0.0    68540\n",
       "1.0     4788\n",
       "2.0     2210\n",
       "3.0     1342\n",
       "4.0      966\n",
       "5.0      782\n",
       "6.0      610\n",
       "7.0      503\n",
       "8.0      421\n",
       "9.0      359\n",
       "Name: HHW_cnt, dtype: int64"
      ]
     },
     "execution_count": 64,
     "metadata": {},
     "output_type": "execute_result"
    }
   ],
   "source": [
    "df['HHW_cnt'].value_counts().head(10)"
   ]
  },
  {
   "cell_type": "code",
   "execution_count": 65,
   "metadata": {},
   "outputs": [
    {
     "data": {
      "text/plain": [
       "Text(0, 0.5, 'Number of Addresses')"
      ]
     },
     "execution_count": 65,
     "metadata": {},
     "output_type": "execute_result"
    },
    {
     "data": {
      "image/png": "[encoded data removed]",
      "text/plain": [
       "<Figure size 432x288 with 1 Axes>"
      ]
     },
     "metadata": {
      "needs_background": "light"
     },
     "output_type": "display_data"
    }
   ],
   "source": [
    "plt.plot(df['HHW_cnt'].value_counts())\n",
    "plt.xlim(2, 100)\n",
    "plt.ylim(0,1000)\n",
    "plt.xlabel('Number of HHW Complaint(HHW_cnt)')\n",
    "plt.ylabel('Number of Addresses')"
   ]
  },
  {
   "cell_type": "markdown",
   "metadata": {},
   "source": [
    "### According the figure above, I am going to divide HHW_cnt (number of HHW complaints) into three ranges to reduce the catagories for classification: 0, 1~20, and above 20   "
   ]
  },
  {
   "cell_type": "code",
   "execution_count": 66,
   "metadata": {},
   "outputs": [],
   "source": [
    "def cnt(x):\n",
    "    if x ==0:\n",
    "        range = 0\n",
    "    elif 0 < x <= 20:\n",
    "        range = 20\n",
    "    else: \n",
    "        range = 50\n",
    "    return range\n",
    "df['HHW_cnt'] = df['HHW_cnt'].apply(cnt)"
   ]
  },
  {
   "cell_type": "code",
   "execution_count": 67,
   "metadata": {},
   "outputs": [
    {
     "data": {
      "text/plain": [
       "0     68540\n",
       "20    14050\n",
       "50     4427\n",
       "Name: HHW_cnt, dtype: int64"
      ]
     },
     "execution_count": 67,
     "metadata": {},
     "output_type": "execute_result"
    }
   ],
   "source": [
    "df['HHW_cnt'].value_counts().head(10)"
   ]
  },
  {
   "cell_type": "code",
   "execution_count": 68,
   "metadata": {},
   "outputs": [
    {
     "data": {
      "text/plain": [
       "<matplotlib.axes._subplots.AxesSubplot at 0x25f12f67e08>"
      ]
     },
     "execution_count": 68,
     "metadata": {},
     "output_type": "execute_result"
    },
    {
     "data": {
      "image/png": "[encoded data removed]",
      "text/plain": [
       "<Figure size 432x288 with 1 Axes>"
      ]
     },
     "metadata": {
      "needs_background": "light"
     },
     "output_type": "display_data"
    }
   ],
   "source": [
    "sns.countplot(df['HHW_cnt'])\n",
    "#imbalanced data"
   ]
  },
  {
   "cell_type": "markdown",
   "metadata": {},
   "source": [
    "### Feature selection with 1)correlation_matrix; 2)Recursive Feature Elimination; and 3)feature importance ranking."
   ]
  },
  {
   "cell_type": "code",
   "execution_count": 69,
   "metadata": {},
   "outputs": [
    {
     "data": {
      "text/plain": [
       "<matplotlib.axes._subplots.AxesSubplot at 0x25f0f20a348>"
      ]
     },
     "execution_count": 69,
     "metadata": {},
     "output_type": "execute_result"
    },
    {
     "data": {
      "image/png": "[encoded data removed]",
      "text/plain": [
       "<Figure size 864x576 with 2 Axes>"
      ]
     },
     "metadata": {
      "needs_background": "light"
     },
     "output_type": "display_data"
    }
   ],
   "source": [
    "# 1) correlation matrix\n",
    "corr_matrix = df.corr()\n",
    "plt.figure(figsize =(12,8))\n",
    "sns.heatmap(corr_matrix,cmap='viridis',annot=True)"
   ]
  },
  {
   "cell_type": "markdown",
   "metadata": {},
   "source": [
    "'BldgArea' is highly correlated with 'ResArea', and 'ResidFAR' is highly correlated with 'FacilFAR'"
   ]
  },
  {
   "cell_type": "code",
   "execution_count": 70,
   "metadata": {},
   "outputs": [],
   "source": [
    "# Drop one of two features that have a correlation higher than 0.85\n",
    "# Drop 'ResArea' and 'FacilFAR'\n",
    "df.drop(columns =['ResArea','FacilFAR'], inplace = True)"
   ]
  },
  {
   "cell_type": "code",
   "execution_count": 71,
   "metadata": {},
   "outputs": [
    {
     "data": {
      "text/plain": [
       "HHW_cnt       1.000000\n",
       "NumFloors     0.479296\n",
       "ResidFAR      0.346208\n",
       "BuiltFAR      0.342443\n",
       "FacilFAR      0.315650\n",
       "BldgDepth     0.312032\n",
       "ResArea       0.136755\n",
       "BldgArea      0.117719\n",
       "Age           0.027730\n",
       "RetailArea    0.012937\n",
       "LotDepth      0.012046\n",
       "ZipCode       0.008400\n",
       "OfficeArea    0.002560\n",
       "Lot           0.001271\n",
       "LotArea      -0.000785\n",
       "NumBldgs     -0.007869\n",
       "CommFAR      -0.016276\n",
       "YCoord       -0.029850\n",
       "XCoord       -0.258185\n",
       "Name: HHW_cnt, dtype: float64"
      ]
     },
     "execution_count": 71,
     "metadata": {},
     "output_type": "execute_result"
    }
   ],
   "source": [
    "corr_matrix['HHW_cnt'].sort_values(ascending = False)"
   ]
  },
  {
   "cell_type": "markdown",
   "metadata": {},
   "source": [
    "1) correlation_matrix shows NumFloors, ResidFAR, BuiltFAR, BldgDepth, XCoord are the most important features"
   ]
  },
  {
   "cell_type": "code",
   "execution_count": 72,
   "metadata": {},
   "outputs": [],
   "source": [
    "# 2)Recursive Feature Elimination \n",
    "X = df.drop(columns =['Address','HHW_cnt'])\n",
    "y = df['HHW_cnt']"
   ]
  },
  {
   "cell_type": "code",
   "execution_count": 73,
   "metadata": {},
   "outputs": [],
   "source": [
    "from sklearn.feature_selection import RFE\n",
    "from sklearn.tree import DecisionTreeClassifier\n",
    "estimator = DecisionTreeClassifier(random_state=0)\n",
    "selector = RFE(estimator,n_features_to_select=10,step=1) # pick the most important ten features\n",
    "selector = selector.fit(X, y)"
   ]
  },
  {
   "cell_type": "code",
   "execution_count": 74,
   "metadata": {},
   "outputs": [
    {
     "name": "stdout",
     "output_type": "stream",
     "text": [
      "Number of features: 10\n",
      "Selected features:  [ True False  True  True False False False  True  True  True  True False\n",
      " False  True  True  True]\n",
      "Feature Ranking:  [1 3 1 1 6 5 4 1 1 1 1 2 7 1 1 1]\n"
     ]
    }
   ],
   "source": [
    "print('Number of features:', selector.n_features_)\n",
    "print('Selected features: ', selector.support_)\n",
    "print('Feature Ranking: ', selector.ranking_)"
   ]
  },
  {
   "cell_type": "markdown",
   "metadata": {},
   "source": [
    "2) RFE indicates the most important ten features are: Lot, LotArea, BldgArea,NumFloors, LotDepth, BldgDepth, BuiltFAR, XCoord, YCoord, Age"
   ]
  },
  {
   "cell_type": "code",
   "execution_count": 75,
   "metadata": {},
   "outputs": [
    {
     "data": {
      "text/plain": [
       "RandomForestClassifier(bootstrap=True, ccp_alpha=0.0, class_weight=None,\n",
       "                       criterion='gini', max_depth=None, max_features='auto',\n",
       "                       max_leaf_nodes=None, max_samples=None,\n",
       "                       min_impurity_decrease=0.0, min_impurity_split=None,\n",
       "                       min_samples_leaf=1, min_samples_split=2,\n",
       "                       min_weight_fraction_leaf=0.0, n_estimators=100,\n",
       "                       n_jobs=None, oob_score=False, random_state=None,\n",
       "                       verbose=0, warm_start=False)"
      ]
     },
     "execution_count": 75,
     "metadata": {},
     "output_type": "execute_result"
    }
   ],
   "source": [
    "# 3)feature importance ranking with Random Forest Classifier\n",
    "from sklearn.ensemble import RandomForestClassifier\n",
    "RF = RandomForestClassifier()\n",
    "RF.fit(X,y)"
   ]
  },
  {
   "cell_type": "code",
   "execution_count": 76,
   "metadata": {},
   "outputs": [
    {
     "data": {
      "text/html": [
       "<div>\n",
       "<style scoped>\n",
       "    .dataframe tbody tr th:only-of-type {\n",
       "        vertical-align: middle;\n",
       "    }\n",
       "\n",
       "    .dataframe tbody tr th {\n",
       "        vertical-align: top;\n",
       "    }\n",
       "\n",
       "    .dataframe thead th {\n",
       "        text-align: right;\n",
       "    }\n",
       "</style>\n",
       "<table border=\"1\" class=\"dataframe\">\n",
       "  <thead>\n",
       "    <tr style=\"text-align: right;\">\n",
       "      <th></th>\n",
       "      <th>FeatureName</th>\n",
       "      <th>FeatureRanking_RFE</th>\n",
       "      <th>FeatureImportance_RF</th>\n",
       "    </tr>\n",
       "  </thead>\n",
       "  <tbody>\n",
       "    <tr>\n",
       "      <th>10</th>\n",
       "      <td>BuiltFAR</td>\n",
       "      <td>1</td>\n",
       "      <td>0.136971</td>\n",
       "    </tr>\n",
       "    <tr>\n",
       "      <th>13</th>\n",
       "      <td>XCoord</td>\n",
       "      <td>1</td>\n",
       "      <td>0.115457</td>\n",
       "    </tr>\n",
       "    <tr>\n",
       "      <th>14</th>\n",
       "      <td>YCoord</td>\n",
       "      <td>1</td>\n",
       "      <td>0.111045</td>\n",
       "    </tr>\n",
       "    <tr>\n",
       "      <th>3</th>\n",
       "      <td>BldgArea</td>\n",
       "      <td>1</td>\n",
       "      <td>0.106013</td>\n",
       "    </tr>\n",
       "    <tr>\n",
       "      <th>0</th>\n",
       "      <td>Lot</td>\n",
       "      <td>1</td>\n",
       "      <td>0.099535</td>\n",
       "    </tr>\n",
       "    <tr>\n",
       "      <th>9</th>\n",
       "      <td>BldgDepth</td>\n",
       "      <td>1</td>\n",
       "      <td>0.079726</td>\n",
       "    </tr>\n",
       "    <tr>\n",
       "      <th>7</th>\n",
       "      <td>NumFloors</td>\n",
       "      <td>1</td>\n",
       "      <td>0.077383</td>\n",
       "    </tr>\n",
       "    <tr>\n",
       "      <th>2</th>\n",
       "      <td>LotArea</td>\n",
       "      <td>1</td>\n",
       "      <td>0.070187</td>\n",
       "    </tr>\n",
       "    <tr>\n",
       "      <th>15</th>\n",
       "      <td>Age</td>\n",
       "      <td>1</td>\n",
       "      <td>0.056965</td>\n",
       "    </tr>\n",
       "    <tr>\n",
       "      <th>8</th>\n",
       "      <td>LotDepth</td>\n",
       "      <td>1</td>\n",
       "      <td>0.050792</td>\n",
       "    </tr>\n",
       "    <tr>\n",
       "      <th>11</th>\n",
       "      <td>ResidFAR</td>\n",
       "      <td>2</td>\n",
       "      <td>0.033416</td>\n",
       "    </tr>\n",
       "    <tr>\n",
       "      <th>1</th>\n",
       "      <td>ZipCode</td>\n",
       "      <td>3</td>\n",
       "      <td>0.028534</td>\n",
       "    </tr>\n",
       "    <tr>\n",
       "      <th>6</th>\n",
       "      <td>NumBldgs</td>\n",
       "      <td>4</td>\n",
       "      <td>0.011604</td>\n",
       "    </tr>\n",
       "    <tr>\n",
       "      <th>5</th>\n",
       "      <td>RetailArea</td>\n",
       "      <td>5</td>\n",
       "      <td>0.010941</td>\n",
       "    </tr>\n",
       "    <tr>\n",
       "      <th>4</th>\n",
       "      <td>OfficeArea</td>\n",
       "      <td>6</td>\n",
       "      <td>0.006302</td>\n",
       "    </tr>\n",
       "    <tr>\n",
       "      <th>12</th>\n",
       "      <td>CommFAR</td>\n",
       "      <td>7</td>\n",
       "      <td>0.005128</td>\n",
       "    </tr>\n",
       "  </tbody>\n",
       "</table>\n",
       "</div>"
      ],
      "text/plain": [
       "   FeatureName  FeatureRanking_RFE  FeatureImportance_RF\n",
       "10    BuiltFAR                   1              0.136971\n",
       "13      XCoord                   1              0.115457\n",
       "14      YCoord                   1              0.111045\n",
       "3     BldgArea                   1              0.106013\n",
       "0          Lot                   1              0.099535\n",
       "9    BldgDepth                   1              0.079726\n",
       "7    NumFloors                   1              0.077383\n",
       "2      LotArea                   1              0.070187\n",
       "15         Age                   1              0.056965\n",
       "8     LotDepth                   1              0.050792\n",
       "11    ResidFAR                   2              0.033416\n",
       "1      ZipCode                   3              0.028534\n",
       "6     NumBldgs                   4              0.011604\n",
       "5   RetailArea                   5              0.010941\n",
       "4   OfficeArea                   6              0.006302\n",
       "12     CommFAR                   7              0.005128"
      ]
     },
     "execution_count": 76,
     "metadata": {},
     "output_type": "execute_result"
    }
   ],
   "source": [
    "df_feature_importance = pd.DataFrame({'FeatureName': X.columns, 'FeatureRanking_RFE':selector.ranking_, 'FeatureImportance_RF':RF.feature_importances_})\n",
    "df_feature_importance.sort_values('FeatureImportance_RF',ascending = False)"
   ]
  },
  {
   "cell_type": "markdown",
   "metadata": {},
   "source": [
    "### The Table above shows that both RFE and Random Forest models agree pretty well: the ten most important features are (in the order of importance): BuiltFAR, XCoord, YCoord, BldgArea, Lot, NumFloors, BldgDepth, LotArea, Age, LotDepth"
   ]
  },
  {
   "cell_type": "markdown",
   "metadata": {},
   "source": [
    "## STEP 5: standarize and split train-test data"
   ]
  },
  {
   "cell_type": "code",
   "execution_count": 77,
   "metadata": {},
   "outputs": [],
   "source": [
    "from sklearn.preprocessing import StandardScaler"
   ]
  },
  {
   "cell_type": "code",
   "execution_count": 78,
   "metadata": {},
   "outputs": [
    {
     "data": {
      "text/html": [
       "<div>\n",
       "<style scoped>\n",
       "    .dataframe tbody tr th:only-of-type {\n",
       "        vertical-align: middle;\n",
       "    }\n",
       "\n",
       "    .dataframe tbody tr th {\n",
       "        vertical-align: top;\n",
       "    }\n",
       "\n",
       "    .dataframe thead th {\n",
       "        text-align: right;\n",
       "    }\n",
       "</style>\n",
       "<table border=\"1\" class=\"dataframe\">\n",
       "  <thead>\n",
       "    <tr style=\"text-align: right;\">\n",
       "      <th></th>\n",
       "      <th>Lot</th>\n",
       "      <th>ZipCode</th>\n",
       "      <th>LotArea</th>\n",
       "      <th>BldgArea</th>\n",
       "      <th>OfficeArea</th>\n",
       "      <th>RetailArea</th>\n",
       "      <th>NumBldgs</th>\n",
       "      <th>NumFloors</th>\n",
       "      <th>LotDepth</th>\n",
       "      <th>BldgDepth</th>\n",
       "      <th>BuiltFAR</th>\n",
       "      <th>ResidFAR</th>\n",
       "      <th>CommFAR</th>\n",
       "      <th>XCoord</th>\n",
       "      <th>YCoord</th>\n",
       "      <th>Age</th>\n",
       "    </tr>\n",
       "  </thead>\n",
       "  <tbody>\n",
       "    <tr>\n",
       "      <th>0</th>\n",
       "      <td>-0.117486</td>\n",
       "      <td>0.054346</td>\n",
       "      <td>0.008764</td>\n",
       "      <td>0.803298</td>\n",
       "      <td>-0.042652</td>\n",
       "      <td>-0.072233</td>\n",
       "      <td>-0.112618</td>\n",
       "      <td>2.504916</td>\n",
       "      <td>-0.079163</td>\n",
       "      <td>1.222536</td>\n",
       "      <td>2.126465</td>\n",
       "      <td>0.567523</td>\n",
       "      <td>-0.219946</td>\n",
       "      <td>-0.419144</td>\n",
       "      <td>-1.059765</td>\n",
       "      <td>0.159119</td>\n",
       "    </tr>\n",
       "    <tr>\n",
       "      <th>1</th>\n",
       "      <td>-0.224531</td>\n",
       "      <td>0.021862</td>\n",
       "      <td>0.037947</td>\n",
       "      <td>0.689980</td>\n",
       "      <td>-0.042652</td>\n",
       "      <td>-0.072233</td>\n",
       "      <td>-0.112618</td>\n",
       "      <td>1.820036</td>\n",
       "      <td>0.964342</td>\n",
       "      <td>1.386341</td>\n",
       "      <td>0.767685</td>\n",
       "      <td>1.342292</td>\n",
       "      <td>-0.219946</td>\n",
       "      <td>-1.055040</td>\n",
       "      <td>1.182379</td>\n",
       "      <td>0.307763</td>\n",
       "    </tr>\n",
       "    <tr>\n",
       "      <th>2</th>\n",
       "      <td>0.055608</td>\n",
       "      <td>0.000206</td>\n",
       "      <td>0.029236</td>\n",
       "      <td>0.674854</td>\n",
       "      <td>-0.042652</td>\n",
       "      <td>0.930239</td>\n",
       "      <td>-0.112618</td>\n",
       "      <td>2.504916</td>\n",
       "      <td>0.312151</td>\n",
       "      <td>2.434691</td>\n",
       "      <td>0.938913</td>\n",
       "      <td>1.342292</td>\n",
       "      <td>-0.219946</td>\n",
       "      <td>-1.089825</td>\n",
       "      <td>0.065330</td>\n",
       "      <td>0.258215</td>\n",
       "    </tr>\n",
       "    <tr>\n",
       "      <th>3</th>\n",
       "      <td>-0.217699</td>\n",
       "      <td>0.014643</td>\n",
       "      <td>0.025562</td>\n",
       "      <td>1.566404</td>\n",
       "      <td>-0.042652</td>\n",
       "      <td>-0.072233</td>\n",
       "      <td>-0.112618</td>\n",
       "      <td>6.614197</td>\n",
       "      <td>-0.079163</td>\n",
       "      <td>0.119475</td>\n",
       "      <td>2.905279</td>\n",
       "      <td>1.342292</td>\n",
       "      <td>-0.219946</td>\n",
       "      <td>1.194745</td>\n",
       "      <td>-0.178009</td>\n",
       "      <td>-0.559324</td>\n",
       "    </tr>\n",
       "    <tr>\n",
       "      <th>4</th>\n",
       "      <td>-0.181258</td>\n",
       "      <td>-0.021450</td>\n",
       "      <td>0.036262</td>\n",
       "      <td>1.732625</td>\n",
       "      <td>-0.042652</td>\n",
       "      <td>-0.072233</td>\n",
       "      <td>-0.112618</td>\n",
       "      <td>2.504916</td>\n",
       "      <td>0.258345</td>\n",
       "      <td>1.976038</td>\n",
       "      <td>2.634627</td>\n",
       "      <td>3.321406</td>\n",
       "      <td>-0.219946</td>\n",
       "      <td>-1.933260</td>\n",
       "      <td>-1.120419</td>\n",
       "      <td>0.010476</td>\n",
       "    </tr>\n",
       "  </tbody>\n",
       "</table>\n",
       "</div>"
      ],
      "text/plain": [
       "        Lot   ZipCode   LotArea  BldgArea  OfficeArea  RetailArea  NumBldgs  \\\n",
       "0 -0.117486  0.054346  0.008764  0.803298   -0.042652   -0.072233 -0.112618   \n",
       "1 -0.224531  0.021862  0.037947  0.689980   -0.042652   -0.072233 -0.112618   \n",
       "2  0.055608  0.000206  0.029236  0.674854   -0.042652    0.930239 -0.112618   \n",
       "3 -0.217699  0.014643  0.025562  1.566404   -0.042652   -0.072233 -0.112618   \n",
       "4 -0.181258 -0.021450  0.036262  1.732625   -0.042652   -0.072233 -0.112618   \n",
       "\n",
       "   NumFloors  LotDepth  BldgDepth  BuiltFAR  ResidFAR   CommFAR    XCoord  \\\n",
       "0   2.504916 -0.079163   1.222536  2.126465  0.567523 -0.219946 -0.419144   \n",
       "1   1.820036  0.964342   1.386341  0.767685  1.342292 -0.219946 -1.055040   \n",
       "2   2.504916  0.312151   2.434691  0.938913  1.342292 -0.219946 -1.089825   \n",
       "3   6.614197 -0.079163   0.119475  2.905279  1.342292 -0.219946  1.194745   \n",
       "4   2.504916  0.258345   1.976038  2.634627  3.321406 -0.219946 -1.933260   \n",
       "\n",
       "     YCoord       Age  \n",
       "0 -1.059765  0.159119  \n",
       "1  1.182379  0.307763  \n",
       "2  0.065330  0.258215  \n",
       "3 -0.178009 -0.559324  \n",
       "4 -1.120419  0.010476  "
      ]
     },
     "execution_count": 78,
     "metadata": {},
     "output_type": "execute_result"
    }
   ],
   "source": [
    "X_scaled = pd.DataFrame(StandardScaler().fit(X).transform(X),columns=X.columns)\n",
    "X_scaled.head()"
   ]
  },
  {
   "cell_type": "code",
   "execution_count": 79,
   "metadata": {},
   "outputs": [],
   "source": [
    "from sklearn.model_selection import train_test_split"
   ]
  },
  {
   "cell_type": "code",
   "execution_count": 80,
   "metadata": {},
   "outputs": [],
   "source": [
    "X_train, X_test, y_train, y_test = train_test_split(X_scaled, y, test_size=0.33, random_state=42)"
   ]
  },
  {
   "cell_type": "markdown",
   "metadata": {},
   "source": [
    "## STEP 6: Model selection with pipeline & GridSearchCV"
   ]
  },
  {
   "cell_type": "code",
   "execution_count": 81,
   "metadata": {},
   "outputs": [
    {
     "name": "stdout",
     "output_type": "stream",
     "text": [
      "Fitting 5 folds for each of 1116 candidates, totalling 5580 fits\n"
     ]
    },
    {
     "name": "stderr",
     "output_type": "stream",
     "text": [
      "[Parallel(n_jobs=-3)]: Using backend LokyBackend with 14 concurrent workers.\n",
      "[Parallel(n_jobs=-3)]: Done   4 tasks      | elapsed:    2.5s\n",
      "[Parallel(n_jobs=-3)]: Done 100 tasks      | elapsed:  2.3min\n",
      "[Parallel(n_jobs=-3)]: Done 260 tasks      | elapsed:  6.1min\n",
      "[Parallel(n_jobs=-3)]: Done 484 tasks      | elapsed:  9.4min\n",
      "[Parallel(n_jobs=-3)]: Done 772 tasks      | elapsed: 17.4min\n",
      "[Parallel(n_jobs=-3)]: Done 1124 tasks      | elapsed: 24.4min\n",
      "[Parallel(n_jobs=-3)]: Done 1540 tasks      | elapsed: 36.0min\n",
      "[Parallel(n_jobs=-3)]: Done 2020 tasks      | elapsed: 50.8min\n",
      "[Parallel(n_jobs=-3)]: Done 2564 tasks      | elapsed: 67.9min\n",
      "[Parallel(n_jobs=-3)]: Done 3172 tasks      | elapsed: 82.9min\n",
      "[Parallel(n_jobs=-3)]: Done 3844 tasks      | elapsed: 103.2min\n",
      "[Parallel(n_jobs=-3)]: Done 4580 tasks      | elapsed: 133.7min\n",
      "[Parallel(n_jobs=-3)]: Done 5380 tasks      | elapsed: 165.4min\n",
      "[Parallel(n_jobs=-3)]: Done 5580 out of 5580 | elapsed: 222.2min finished\n"
     ]
    }
   ],
   "source": [
    "from sklearn.linear_model import LogisticRegression\n",
    "from sklearn.ensemble import RandomForestClassifier\n",
    "from sklearn.tree import DecisionTreeClassifier\n",
    "from sklearn.model_selection import GridSearchCV\n",
    "from sklearn.svm import SVC\n",
    "from sklearn.pipeline import Pipeline\n",
    "pipe = Pipeline([('classifier', RandomForestClassifier())])\n",
    "param_grid = [{'classifier': [RandomForestClassifier()],\n",
    "               'classifier__n_estimators': [10,100,1000],\n",
    "               'classifier__max_features': [10,'auto','sqrt'],\n",
    "               'classifier__max_leaf_nodes': [2,5,10,None],\n",
    "               'classifier__max_depth':[3,5,7,9,10],\n",
    "               'classifier__min_samples_split':[2,4,6],\n",
    "               'classifier__criterion': ['gini','entropy']}, \n",
    "              {'classifier': [LogisticRegression()],\n",
    "               'classifier__penalty': ['l1','l2'],\n",
    "               'classifier__C': np.linspace(0,4,10)},\n",
    "              {'classifier':[SVC()],\n",
    "               'classifier__C':[0.01,0.1,1,10],\n",
    "               'classifier__gamma':['auto',1,0.1,10]}\n",
    "             ]\n",
    "grid = GridSearchCV(estimator=pipe,param_grid=param_grid,cv=5, verbose=3,n_jobs=-3)\n",
    "model = grid.fit(X_train,y_train)"
   ]
  },
  {
   "cell_type": "code",
   "execution_count": 83,
   "metadata": {},
   "outputs": [
    {
     "name": "stdout",
     "output_type": "stream",
     "text": [
      "Best Model with Parameters:{'classifier': RandomForestClassifier(bootstrap=True, ccp_alpha=0.0, class_weight=None,\n",
      "                       criterion='gini', max_depth=10, max_features=10,\n",
      "                       max_leaf_nodes=None, max_samples=None,\n",
      "                       min_impurity_decrease=0.0, min_impurity_split=None,\n",
      "                       min_samples_leaf=1, min_samples_split=2,\n",
      "                       min_weight_fraction_leaf=0.0, n_estimators=1000,\n",
      "                       n_jobs=None, oob_score=False, random_state=None,\n",
      "                       verbose=0, warm_start=False), 'classifier__criterion': 'gini', 'classifier__max_depth': 10, 'classifier__max_features': 10, 'classifier__max_leaf_nodes': None, 'classifier__min_samples_split': 2, 'classifier__n_estimators': 1000}\n",
      "Best Accuracy Score is: 0.8239309757363648\n"
     ]
    }
   ],
   "source": [
    "print('Best Model with Parameters:{}'.format(model.best_params_,'\\n'))\n",
    "print('Best Accuracy Score is: {}'.format(model.best_score_))"
   ]
  },
  {
   "cell_type": "code",
   "execution_count": 84,
   "metadata": {},
   "outputs": [
    {
     "data": {
      "text/plain": [
       "0     0.787662\n",
       "20    0.161463\n",
       "50    0.050875\n",
       "Name: HHW_cnt, dtype: float64"
      ]
     },
     "execution_count": 84,
     "metadata": {},
     "output_type": "execute_result"
    }
   ],
   "source": [
    "y.value_counts(normalize = True)"
   ]
  },
  {
   "cell_type": "code",
   "execution_count": 85,
   "metadata": {},
   "outputs": [
    {
     "name": "stdout",
     "output_type": "stream",
     "text": [
      "              precision    recall  f1-score   support\n",
      "\n",
      "           0       0.85      0.98      0.91     22685\n",
      "          20       0.51      0.15      0.23      4574\n",
      "          50       0.63      0.66      0.65      1457\n",
      "\n",
      "    accuracy                           0.83     28716\n",
      "   macro avg       0.67      0.60      0.60     28716\n",
      "weighted avg       0.79      0.83      0.79     28716\n",
      "\n"
     ]
    }
   ],
   "source": [
    "from sklearn.metrics import classification_report\n",
    "print(classification_report(y_test, model.predict(X_test)))"
   ]
  },
  {
   "cell_type": "markdown",
   "metadata": {},
   "source": [
    "The accuracy scores are better than dummy classifier"
   ]
  },
  {
   "cell_type": "code",
   "execution_count": 86,
   "metadata": {},
   "outputs": [
    {
     "data": {
      "text/html": [
       "<div>\n",
       "<style scoped>\n",
       "    .dataframe tbody tr th:only-of-type {\n",
       "        vertical-align: middle;\n",
       "    }\n",
       "\n",
       "    .dataframe tbody tr th {\n",
       "        vertical-align: top;\n",
       "    }\n",
       "\n",
       "    .dataframe thead th {\n",
       "        text-align: right;\n",
       "    }\n",
       "</style>\n",
       "<table border=\"1\" class=\"dataframe\">\n",
       "  <thead>\n",
       "    <tr style=\"text-align: right;\">\n",
       "      <th></th>\n",
       "      <th>FeatureName</th>\n",
       "      <th>FeatureImportance</th>\n",
       "    </tr>\n",
       "  </thead>\n",
       "  <tbody>\n",
       "    <tr>\n",
       "      <th>7</th>\n",
       "      <td>NumFloors</td>\n",
       "      <td>0.319980</td>\n",
       "    </tr>\n",
       "    <tr>\n",
       "      <th>10</th>\n",
       "      <td>BuiltFAR</td>\n",
       "      <td>0.202753</td>\n",
       "    </tr>\n",
       "    <tr>\n",
       "      <th>3</th>\n",
       "      <td>BldgArea</td>\n",
       "      <td>0.097817</td>\n",
       "    </tr>\n",
       "    <tr>\n",
       "      <th>9</th>\n",
       "      <td>BldgDepth</td>\n",
       "      <td>0.070553</td>\n",
       "    </tr>\n",
       "    <tr>\n",
       "      <th>15</th>\n",
       "      <td>Age</td>\n",
       "      <td>0.061051</td>\n",
       "    </tr>\n",
       "    <tr>\n",
       "      <th>13</th>\n",
       "      <td>XCoord</td>\n",
       "      <td>0.043907</td>\n",
       "    </tr>\n",
       "    <tr>\n",
       "      <th>2</th>\n",
       "      <td>LotArea</td>\n",
       "      <td>0.041946</td>\n",
       "    </tr>\n",
       "    <tr>\n",
       "      <th>14</th>\n",
       "      <td>YCoord</td>\n",
       "      <td>0.041602</td>\n",
       "    </tr>\n",
       "    <tr>\n",
       "      <th>11</th>\n",
       "      <td>ResidFAR</td>\n",
       "      <td>0.036158</td>\n",
       "    </tr>\n",
       "    <tr>\n",
       "      <th>0</th>\n",
       "      <td>Lot</td>\n",
       "      <td>0.024710</td>\n",
       "    </tr>\n",
       "    <tr>\n",
       "      <th>8</th>\n",
       "      <td>LotDepth</td>\n",
       "      <td>0.021535</td>\n",
       "    </tr>\n",
       "    <tr>\n",
       "      <th>1</th>\n",
       "      <td>ZipCode</td>\n",
       "      <td>0.014297</td>\n",
       "    </tr>\n",
       "    <tr>\n",
       "      <th>4</th>\n",
       "      <td>OfficeArea</td>\n",
       "      <td>0.008730</td>\n",
       "    </tr>\n",
       "    <tr>\n",
       "      <th>5</th>\n",
       "      <td>RetailArea</td>\n",
       "      <td>0.007540</td>\n",
       "    </tr>\n",
       "    <tr>\n",
       "      <th>12</th>\n",
       "      <td>CommFAR</td>\n",
       "      <td>0.003717</td>\n",
       "    </tr>\n",
       "    <tr>\n",
       "      <th>6</th>\n",
       "      <td>NumBldgs</td>\n",
       "      <td>0.003706</td>\n",
       "    </tr>\n",
       "  </tbody>\n",
       "</table>\n",
       "</div>"
      ],
      "text/plain": [
       "   FeatureName  FeatureImportance\n",
       "7    NumFloors           0.319980\n",
       "10    BuiltFAR           0.202753\n",
       "3     BldgArea           0.097817\n",
       "9    BldgDepth           0.070553\n",
       "15         Age           0.061051\n",
       "13      XCoord           0.043907\n",
       "2      LotArea           0.041946\n",
       "14      YCoord           0.041602\n",
       "11    ResidFAR           0.036158\n",
       "0          Lot           0.024710\n",
       "8     LotDepth           0.021535\n",
       "1      ZipCode           0.014297\n",
       "4   OfficeArea           0.008730\n",
       "5   RetailArea           0.007540\n",
       "12     CommFAR           0.003717\n",
       "6     NumBldgs           0.003706"
      ]
     },
     "execution_count": 86,
     "metadata": {},
     "output_type": "execute_result"
    }
   ],
   "source": [
    "df_feature_importance = pd.DataFrame({'FeatureName': X.columns, 'FeatureImportance':\\\n",
    "                                      model.best_estimator_['classifier'].feature_importances_ })\n",
    "df_feature_importance.sort_values('FeatureImportance',ascending = False)"
   ]
  },
  {
   "cell_type": "markdown",
   "metadata": {},
   "source": [
    "# QUESTION 3 CONCLUSION: \n",
    "# NumFloors, BuiltFAR, BldgArea,BldgDepth, Age are the top five housing characteristics that determins how many HEAT/HOT WATER complaints filed in total in BRONX."
   ]
  },
  {
   "cell_type": "markdown",
   "metadata": {},
   "source": [
    "## For Question 4, I am going to build a model to predict the total amount of HEAT/HOT WATER complaints in 2020"
   ]
  },
  {
   "cell_type": "code",
   "execution_count": 87,
   "metadata": {},
   "outputs": [
    {
     "data": {
      "text/html": [
       "<div>\n",
       "<style scoped>\n",
       "    .dataframe tbody tr th:only-of-type {\n",
       "        vertical-align: middle;\n",
       "    }\n",
       "\n",
       "    .dataframe tbody tr th {\n",
       "        vertical-align: top;\n",
       "    }\n",
       "\n",
       "    .dataframe thead th {\n",
       "        text-align: right;\n",
       "    }\n",
       "</style>\n",
       "<table border=\"1\" class=\"dataframe\">\n",
       "  <thead>\n",
       "    <tr style=\"text-align: right;\">\n",
       "      <th></th>\n",
       "      <th>created_date</th>\n",
       "      <th>unique_key</th>\n",
       "      <th>complaint_type</th>\n",
       "      <th>incident_zip</th>\n",
       "      <th>incident_address</th>\n",
       "      <th>street_name</th>\n",
       "      <th>address_type</th>\n",
       "      <th>city</th>\n",
       "      <th>resolution_description</th>\n",
       "      <th>borough</th>\n",
       "      <th>latitude</th>\n",
       "      <th>longitude</th>\n",
       "      <th>closed_date</th>\n",
       "      <th>location_type</th>\n",
       "      <th>status</th>\n",
       "      <th>Year</th>\n",
       "    </tr>\n",
       "  </thead>\n",
       "  <tbody>\n",
       "    <tr>\n",
       "      <th>0</th>\n",
       "      <td>2020-08-17 17:06:01</td>\n",
       "      <td>47277816</td>\n",
       "      <td>PLUMBING</td>\n",
       "      <td>10468.0</td>\n",
       "      <td>95 WEST  195 STREET</td>\n",
       "      <td>WEST  195 STREET</td>\n",
       "      <td>ADDRESS</td>\n",
       "      <td>BRONX</td>\n",
       "      <td>The following complaint conditions are still o...</td>\n",
       "      <td>BRONX</td>\n",
       "      <td>40.869953</td>\n",
       "      <td>-73.899488</td>\n",
       "      <td>NaN</td>\n",
       "      <td>RESIDENTIAL BUILDING</td>\n",
       "      <td>0</td>\n",
       "      <td>2020</td>\n",
       "    </tr>\n",
       "    <tr>\n",
       "      <th>1</th>\n",
       "      <td>2020-08-17 10:12:47</td>\n",
       "      <td>47277264</td>\n",
       "      <td>PAINT/PLASTER</td>\n",
       "      <td>10303.0</td>\n",
       "      <td>55 HOLLAND AVENUE</td>\n",
       "      <td>HOLLAND AVENUE</td>\n",
       "      <td>ADDRESS</td>\n",
       "      <td>STATEN ISLAND</td>\n",
       "      <td>The following complaint conditions are still o...</td>\n",
       "      <td>STATEN ISLAND</td>\n",
       "      <td>40.638992</td>\n",
       "      <td>-74.171244</td>\n",
       "      <td>NaN</td>\n",
       "      <td>RESIDENTIAL BUILDING</td>\n",
       "      <td>0</td>\n",
       "      <td>2020</td>\n",
       "    </tr>\n",
       "    <tr>\n",
       "      <th>2</th>\n",
       "      <td>2020-08-17 13:47:57</td>\n",
       "      <td>47273051</td>\n",
       "      <td>WATER LEAK</td>\n",
       "      <td>11225.0</td>\n",
       "      <td>135 OCEAN AVENUE</td>\n",
       "      <td>OCEAN AVENUE</td>\n",
       "      <td>ADDRESS</td>\n",
       "      <td>BROOKLYN</td>\n",
       "      <td>The following complaint conditions are still o...</td>\n",
       "      <td>BROOKLYN</td>\n",
       "      <td>40.659590</td>\n",
       "      <td>-73.962656</td>\n",
       "      <td>NaN</td>\n",
       "      <td>RESIDENTIAL BUILDING</td>\n",
       "      <td>0</td>\n",
       "      <td>2020</td>\n",
       "    </tr>\n",
       "    <tr>\n",
       "      <th>3</th>\n",
       "      <td>2020-08-17 12:56:24</td>\n",
       "      <td>47275668</td>\n",
       "      <td>ELECTRIC</td>\n",
       "      <td>10075.0</td>\n",
       "      <td>337 EAST   77 STREET</td>\n",
       "      <td>EAST   77 STREET</td>\n",
       "      <td>ADDRESS</td>\n",
       "      <td>NEW YORK</td>\n",
       "      <td>The following complaint conditions are still o...</td>\n",
       "      <td>MANHATTAN</td>\n",
       "      <td>40.771623</td>\n",
       "      <td>-73.955048</td>\n",
       "      <td>NaN</td>\n",
       "      <td>RESIDENTIAL BUILDING</td>\n",
       "      <td>0</td>\n",
       "      <td>2020</td>\n",
       "    </tr>\n",
       "    <tr>\n",
       "      <th>4</th>\n",
       "      <td>2020-08-17 10:31:06</td>\n",
       "      <td>47274700</td>\n",
       "      <td>UNSANITARY CONDITION</td>\n",
       "      <td>10019.0</td>\n",
       "      <td>37 WEST   54 STREET</td>\n",
       "      <td>WEST   54 STREET</td>\n",
       "      <td>ADDRESS</td>\n",
       "      <td>NEW YORK</td>\n",
       "      <td>The following complaint conditions are still o...</td>\n",
       "      <td>MANHATTAN</td>\n",
       "      <td>40.761600</td>\n",
       "      <td>-73.976684</td>\n",
       "      <td>NaN</td>\n",
       "      <td>RESIDENTIAL BUILDING</td>\n",
       "      <td>0</td>\n",
       "      <td>2020</td>\n",
       "    </tr>\n",
       "  </tbody>\n",
       "</table>\n",
       "</div>"
      ],
      "text/plain": [
       "         created_date  unique_key        complaint_type  incident_zip  \\\n",
       "0 2020-08-17 17:06:01    47277816              PLUMBING       10468.0   \n",
       "1 2020-08-17 10:12:47    47277264         PAINT/PLASTER       10303.0   \n",
       "2 2020-08-17 13:47:57    47273051            WATER LEAK       11225.0   \n",
       "3 2020-08-17 12:56:24    47275668              ELECTRIC       10075.0   \n",
       "4 2020-08-17 10:31:06    47274700  UNSANITARY CONDITION       10019.0   \n",
       "\n",
       "       incident_address       street_name address_type           city  \\\n",
       "0   95 WEST  195 STREET  WEST  195 STREET      ADDRESS          BRONX   \n",
       "1     55 HOLLAND AVENUE    HOLLAND AVENUE      ADDRESS  STATEN ISLAND   \n",
       "2      135 OCEAN AVENUE      OCEAN AVENUE      ADDRESS       BROOKLYN   \n",
       "3  337 EAST   77 STREET  EAST   77 STREET      ADDRESS       NEW YORK   \n",
       "4   37 WEST   54 STREET  WEST   54 STREET      ADDRESS       NEW YORK   \n",
       "\n",
       "                              resolution_description        borough  \\\n",
       "0  The following complaint conditions are still o...          BRONX   \n",
       "1  The following complaint conditions are still o...  STATEN ISLAND   \n",
       "2  The following complaint conditions are still o...       BROOKLYN   \n",
       "3  The following complaint conditions are still o...      MANHATTAN   \n",
       "4  The following complaint conditions are still o...      MANHATTAN   \n",
       "\n",
       "    latitude  longitude closed_date         location_type status  Year  \n",
       "0  40.869953 -73.899488         NaN  RESIDENTIAL BUILDING      0  2020  \n",
       "1  40.638992 -74.171244         NaN  RESIDENTIAL BUILDING      0  2020  \n",
       "2  40.659590 -73.962656         NaN  RESIDENTIAL BUILDING      0  2020  \n",
       "3  40.771623 -73.955048         NaN  RESIDENTIAL BUILDING      0  2020  \n",
       "4  40.761600 -73.976684         NaN  RESIDENTIAL BUILDING      0  2020  "
      ]
     },
     "execution_count": 87,
     "metadata": {},
     "output_type": "execute_result"
    }
   ],
   "source": [
    "df_311.head()"
   ]
  },
  {
   "cell_type": "code",
   "execution_count": 88,
   "metadata": {},
   "outputs": [
    {
     "data": {
      "text/html": [
       "<div>\n",
       "<style scoped>\n",
       "    .dataframe tbody tr th:only-of-type {\n",
       "        vertical-align: middle;\n",
       "    }\n",
       "\n",
       "    .dataframe tbody tr th {\n",
       "        vertical-align: top;\n",
       "    }\n",
       "\n",
       "    .dataframe thead th {\n",
       "        text-align: right;\n",
       "    }\n",
       "</style>\n",
       "<table border=\"1\" class=\"dataframe\">\n",
       "  <thead>\n",
       "    <tr style=\"text-align: right;\">\n",
       "      <th></th>\n",
       "      <th>created_date</th>\n",
       "      <th>unique_key</th>\n",
       "      <th>complaint_type</th>\n",
       "      <th>incident_zip</th>\n",
       "      <th>incident_address</th>\n",
       "      <th>street_name</th>\n",
       "      <th>address_type</th>\n",
       "      <th>city</th>\n",
       "      <th>resolution_description</th>\n",
       "      <th>borough</th>\n",
       "      <th>latitude</th>\n",
       "      <th>longitude</th>\n",
       "      <th>closed_date</th>\n",
       "      <th>location_type</th>\n",
       "      <th>status</th>\n",
       "      <th>Year</th>\n",
       "    </tr>\n",
       "  </thead>\n",
       "  <tbody>\n",
       "    <tr>\n",
       "      <th>5</th>\n",
       "      <td>2020-08-17 08:29:20</td>\n",
       "      <td>47273334</td>\n",
       "      <td>HEAT/HOT WATER</td>\n",
       "      <td>11238.0</td>\n",
       "      <td>261 GATES AVENUE</td>\n",
       "      <td>GATES AVENUE</td>\n",
       "      <td>ADDRESS</td>\n",
       "      <td>BROOKLYN</td>\n",
       "      <td>The following complaint conditions are still o...</td>\n",
       "      <td>BROOKLYN</td>\n",
       "      <td>40.685458</td>\n",
       "      <td>-73.957262</td>\n",
       "      <td>NaN</td>\n",
       "      <td>RESIDENTIAL BUILDING</td>\n",
       "      <td>0</td>\n",
       "      <td>2020</td>\n",
       "    </tr>\n",
       "    <tr>\n",
       "      <th>12</th>\n",
       "      <td>2020-08-17 18:57:38</td>\n",
       "      <td>47276192</td>\n",
       "      <td>HEAT/HOT WATER</td>\n",
       "      <td>10452.0</td>\n",
       "      <td>957 WOODYCREST AVENUE</td>\n",
       "      <td>WOODYCREST AVENUE</td>\n",
       "      <td>ADDRESS</td>\n",
       "      <td>BRONX</td>\n",
       "      <td>The complaint you filed is a duplicate of a co...</td>\n",
       "      <td>BRONX</td>\n",
       "      <td>40.831527</td>\n",
       "      <td>-73.928863</td>\n",
       "      <td>NaN</td>\n",
       "      <td>RESIDENTIAL BUILDING</td>\n",
       "      <td>0</td>\n",
       "      <td>2020</td>\n",
       "    </tr>\n",
       "    <tr>\n",
       "      <th>26</th>\n",
       "      <td>2020-08-17 19:23:18</td>\n",
       "      <td>47273350</td>\n",
       "      <td>HEAT/HOT WATER</td>\n",
       "      <td>10030.0</td>\n",
       "      <td>2480 ADAM C POWELL BOULEVARD</td>\n",
       "      <td>ADAM C POWELL BOULEVARD</td>\n",
       "      <td>ADDRESS</td>\n",
       "      <td>NEW YORK</td>\n",
       "      <td>The following complaint conditions are still o...</td>\n",
       "      <td>MANHATTAN</td>\n",
       "      <td>40.821117</td>\n",
       "      <td>-73.939468</td>\n",
       "      <td>NaN</td>\n",
       "      <td>RESIDENTIAL BUILDING</td>\n",
       "      <td>0</td>\n",
       "      <td>2020</td>\n",
       "    </tr>\n",
       "    <tr>\n",
       "      <th>31</th>\n",
       "      <td>2020-08-17 14:48:16</td>\n",
       "      <td>47273026</td>\n",
       "      <td>HEAT/HOT WATER</td>\n",
       "      <td>11205.0</td>\n",
       "      <td>235 SKILLMAN STREET</td>\n",
       "      <td>SKILLMAN STREET</td>\n",
       "      <td>ADDRESS</td>\n",
       "      <td>BROOKLYN</td>\n",
       "      <td>The following complaint conditions are still o...</td>\n",
       "      <td>BROOKLYN</td>\n",
       "      <td>40.691328</td>\n",
       "      <td>-73.956451</td>\n",
       "      <td>NaN</td>\n",
       "      <td>RESIDENTIAL BUILDING</td>\n",
       "      <td>0</td>\n",
       "      <td>2020</td>\n",
       "    </tr>\n",
       "    <tr>\n",
       "      <th>38</th>\n",
       "      <td>2020-08-17 22:10:31</td>\n",
       "      <td>47273173</td>\n",
       "      <td>HEAT/HOT WATER</td>\n",
       "      <td>11230.0</td>\n",
       "      <td>210 PARKVILLE AVENUE</td>\n",
       "      <td>PARKVILLE AVENUE</td>\n",
       "      <td>ADDRESS</td>\n",
       "      <td>BROOKLYN</td>\n",
       "      <td>The following complaint conditions are still o...</td>\n",
       "      <td>BROOKLYN</td>\n",
       "      <td>40.631266</td>\n",
       "      <td>-73.970616</td>\n",
       "      <td>NaN</td>\n",
       "      <td>RESIDENTIAL BUILDING</td>\n",
       "      <td>0</td>\n",
       "      <td>2020</td>\n",
       "    </tr>\n",
       "  </tbody>\n",
       "</table>\n",
       "</div>"
      ],
      "text/plain": [
       "          created_date  unique_key  complaint_type  incident_zip  \\\n",
       "5  2020-08-17 08:29:20    47273334  HEAT/HOT WATER       11238.0   \n",
       "12 2020-08-17 18:57:38    47276192  HEAT/HOT WATER       10452.0   \n",
       "26 2020-08-17 19:23:18    47273350  HEAT/HOT WATER       10030.0   \n",
       "31 2020-08-17 14:48:16    47273026  HEAT/HOT WATER       11205.0   \n",
       "38 2020-08-17 22:10:31    47273173  HEAT/HOT WATER       11230.0   \n",
       "\n",
       "                incident_address              street_name address_type  \\\n",
       "5               261 GATES AVENUE             GATES AVENUE      ADDRESS   \n",
       "12         957 WOODYCREST AVENUE        WOODYCREST AVENUE      ADDRESS   \n",
       "26  2480 ADAM C POWELL BOULEVARD  ADAM C POWELL BOULEVARD      ADDRESS   \n",
       "31           235 SKILLMAN STREET          SKILLMAN STREET      ADDRESS   \n",
       "38          210 PARKVILLE AVENUE         PARKVILLE AVENUE      ADDRESS   \n",
       "\n",
       "        city                             resolution_description    borough  \\\n",
       "5   BROOKLYN  The following complaint conditions are still o...   BROOKLYN   \n",
       "12     BRONX  The complaint you filed is a duplicate of a co...      BRONX   \n",
       "26  NEW YORK  The following complaint conditions are still o...  MANHATTAN   \n",
       "31  BROOKLYN  The following complaint conditions are still o...   BROOKLYN   \n",
       "38  BROOKLYN  The following complaint conditions are still o...   BROOKLYN   \n",
       "\n",
       "     latitude  longitude closed_date         location_type status  Year  \n",
       "5   40.685458 -73.957262         NaN  RESIDENTIAL BUILDING      0  2020  \n",
       "12  40.831527 -73.928863         NaN  RESIDENTIAL BUILDING      0  2020  \n",
       "26  40.821117 -73.939468         NaN  RESIDENTIAL BUILDING      0  2020  \n",
       "31  40.691328 -73.956451         NaN  RESIDENTIAL BUILDING      0  2020  \n",
       "38  40.631266 -73.970616         NaN  RESIDENTIAL BUILDING      0  2020  "
      ]
     },
     "execution_count": 88,
     "metadata": {},
     "output_type": "execute_result"
    }
   ],
   "source": [
    "df_311_HHW = df_311[df_311['complaint_type'] == 'HEAT/HOT WATER']\n",
    "df_311_HHW.head()"
   ]
  },
  {
   "cell_type": "code",
   "execution_count": 89,
   "metadata": {},
   "outputs": [
    {
     "data": {
      "text/plain": [
       "<matplotlib.axes._subplots.AxesSubplot at 0x25fb242eb88>"
      ]
     },
     "execution_count": 89,
     "metadata": {},
     "output_type": "execute_result"
    },
    {
     "data": {
      "image/png": "[encoded data removed]",
      "text/plain": [
       "<Figure size 432x288 with 1 Axes>"
      ]
     },
     "metadata": {
      "needs_background": "light"
     },
     "output_type": "display_data"
    }
   ],
   "source": [
    "df_311_HHW.groupby('Year').count()['unique_key'].plot(kind ='bar')"
   ]
  },
  {
   "cell_type": "code",
   "execution_count": 90,
   "metadata": {},
   "outputs": [
    {
     "data": {
      "text/html": [
       "<div>\n",
       "<style scoped>\n",
       "    .dataframe tbody tr th:only-of-type {\n",
       "        vertical-align: middle;\n",
       "    }\n",
       "\n",
       "    .dataframe tbody tr th {\n",
       "        vertical-align: top;\n",
       "    }\n",
       "\n",
       "    .dataframe thead th {\n",
       "        text-align: right;\n",
       "    }\n",
       "</style>\n",
       "<table border=\"1\" class=\"dataframe\">\n",
       "  <thead>\n",
       "    <tr style=\"text-align: right;\">\n",
       "      <th></th>\n",
       "      <th>Year</th>\n",
       "      <th>unique_key</th>\n",
       "    </tr>\n",
       "  </thead>\n",
       "  <tbody>\n",
       "    <tr>\n",
       "      <th>0</th>\n",
       "      <td>2010</td>\n",
       "      <td>214218</td>\n",
       "    </tr>\n",
       "    <tr>\n",
       "      <th>1</th>\n",
       "      <td>2011</td>\n",
       "      <td>190184</td>\n",
       "    </tr>\n",
       "    <tr>\n",
       "      <th>2</th>\n",
       "      <td>2012</td>\n",
       "      <td>182974</td>\n",
       "    </tr>\n",
       "    <tr>\n",
       "      <th>3</th>\n",
       "      <td>2013</td>\n",
       "      <td>202896</td>\n",
       "    </tr>\n",
       "    <tr>\n",
       "      <th>4</th>\n",
       "      <td>2014</td>\n",
       "      <td>230364</td>\n",
       "    </tr>\n",
       "    <tr>\n",
       "      <th>5</th>\n",
       "      <td>2015</td>\n",
       "      <td>225706</td>\n",
       "    </tr>\n",
       "    <tr>\n",
       "      <th>6</th>\n",
       "      <td>2016</td>\n",
       "      <td>227959</td>\n",
       "    </tr>\n",
       "    <tr>\n",
       "      <th>7</th>\n",
       "      <td>2017</td>\n",
       "      <td>213521</td>\n",
       "    </tr>\n",
       "    <tr>\n",
       "      <th>8</th>\n",
       "      <td>2018</td>\n",
       "      <td>223835</td>\n",
       "    </tr>\n",
       "    <tr>\n",
       "      <th>9</th>\n",
       "      <td>2019</td>\n",
       "      <td>212075</td>\n",
       "    </tr>\n",
       "    <tr>\n",
       "      <th>10</th>\n",
       "      <td>2020</td>\n",
       "      <td>84805</td>\n",
       "    </tr>\n",
       "  </tbody>\n",
       "</table>\n",
       "</div>"
      ],
      "text/plain": [
       "    Year  unique_key\n",
       "0   2010      214218\n",
       "1   2011      190184\n",
       "2   2012      182974\n",
       "3   2013      202896\n",
       "4   2014      230364\n",
       "5   2015      225706\n",
       "6   2016      227959\n",
       "7   2017      213521\n",
       "8   2018      223835\n",
       "9   2019      212075\n",
       "10  2020       84805"
      ]
     },
     "execution_count": 90,
     "metadata": {},
     "output_type": "execute_result"
    }
   ],
   "source": [
    "df_311_HHW_cnt = df_311_HHW.groupby('Year').count().reset_index()[['Year','unique_key']]\n",
    "df_311_HHW_cnt"
   ]
  },
  {
   "cell_type": "code",
   "execution_count": 91,
   "metadata": {},
   "outputs": [
    {
     "data": {
      "text/plain": [
       "Text(0.5, 1.0, 'Total number of HEAT/HOT WATER complaints from 2010 t0 2019')"
      ]
     },
     "execution_count": 91,
     "metadata": {},
     "output_type": "execute_result"
    },
    {
     "data": {
      "image/png": "[encoded data removed]",
      "text/plain": [
       "<Figure size 432x288 with 1 Axes>"
      ]
     },
     "metadata": {
      "needs_background": "light"
     },
     "output_type": "display_data"
    }
   ],
   "source": [
    "plt.scatter(df_311_HHW_cnt['Year'][:-1],df_311_HHW_cnt['unique_key'][:-1])\n",
    "plt.xlim(2009,2020)\n",
    "plt.ylim(160000,240000)\n",
    "plt.title('Total number of HEAT/HOT WATER complaints from 2010 t0 2019', color ='r')"
   ]
  },
  {
   "cell_type": "code",
   "execution_count": 92,
   "metadata": {},
   "outputs": [],
   "source": [
    "X = np.asarray(df_311_HHW_cnt['Year'][:-1]).reshape(-1,1)\n",
    "y = df_311_HHW_cnt['unique_key'][:-1]"
   ]
  },
  {
   "cell_type": "code",
   "execution_count": 93,
   "metadata": {},
   "outputs": [],
   "source": [
    "from sklearn.preprocessing import PolynomialFeatures\n",
    "poly = PolynomialFeatures(degree = 4)"
   ]
  },
  {
   "cell_type": "code",
   "execution_count": 94,
   "metadata": {},
   "outputs": [],
   "source": [
    "X_poly = poly.fit_transform(X)"
   ]
  },
  {
   "cell_type": "code",
   "execution_count": 95,
   "metadata": {},
   "outputs": [],
   "source": [
    "from sklearn.linear_model import LinearRegression\n",
    "from sklearn.linear_model import Lasso\n",
    "from sklearn.linear_model import Ridge"
   ]
  },
  {
   "cell_type": "code",
   "execution_count": 96,
   "metadata": {},
   "outputs": [],
   "source": [
    "linreg = LinearRegression()"
   ]
  },
  {
   "cell_type": "code",
   "execution_count": null,
   "metadata": {},
   "outputs": [],
   "source": []
  },
  {
   "cell_type": "code",
   "execution_count": 97,
   "metadata": {},
   "outputs": [],
   "source": [
    "model = linreg.fit(X_poly,y)"
   ]
  },
  {
   "cell_type": "code",
   "execution_count": 98,
   "metadata": {},
   "outputs": [],
   "source": [
    "pred = model.predict(X_poly)"
   ]
  },
  {
   "cell_type": "code",
   "execution_count": 99,
   "metadata": {},
   "outputs": [
    {
     "data": {
      "text/plain": [
       "Text(0.5, 1.0, 'Total number of HEAT/HOT WATER complaints from 2010 t0 2019')"
      ]
     },
     "execution_count": 99,
     "metadata": {},
     "output_type": "execute_result"
    },
    {
     "data": {
      "image/png": "[encoded data removed]",
      "text/plain": [
       "<Figure size 432x288 with 1 Axes>"
      ]
     },
     "metadata": {
      "needs_background": "light"
     },
     "output_type": "display_data"
    }
   ],
   "source": [
    "plt.plot(X, pred, color ='r', label = 'Fit with Linear Regression')\n",
    "plt.scatter(df_311_HHW_cnt['Year'][:-1],df_311_HHW_cnt['unique_key'][:-1], label = 'Data')\n",
    "plt.scatter(2020, model.predict(poly.fit_transform([[2020]])))\n",
    "plt.xlabel('Year')\n",
    "plt.ylabel('Total number of HEAT/HOT WATER complaints')\n",
    "plt.legend()\n",
    "plt.title('Total number of HEAT/HOT WATER complaints from 2010 t0 2019', color ='r')"
   ]
  },
  {
   "cell_type": "code",
   "execution_count": 100,
   "metadata": {},
   "outputs": [
    {
     "data": {
      "text/plain": [
       "array([177181.67163086])"
      ]
     },
     "execution_count": 100,
     "metadata": {},
     "output_type": "execute_result"
    }
   ],
   "source": [
    "# Predict the total number of HEAT/HOT WATER complaints in 2020\n",
    "model.predict(poly.fit_transform([[2020]]))"
   ]
  },
  {
   "cell_type": "markdown",
   "metadata": {},
   "source": [
    "# CONCLUSION for Question 4: \n",
    "# A model can be built to predict total number of HEAT/HOT WATER complaints in the future. The model predicts 177181 total HEAT/HOT WATER complaints in 2020. "
   ]
  },
  {
   "cell_type": "code",
   "execution_count": null,
   "metadata": {},
   "outputs": [],
   "source": []
  },
  {
   "cell_type": "code",
   "execution_count": null,
   "metadata": {},
   "outputs": [],
   "source": []
  }
 ],
 "metadata": {
  "kernelspec": {
   "display_name": "Python 3",
   "language": "python",
   "name": "python3"
  },
  "language_info": {
   "codemirror_mode": {
    "name": "ipython",
    "version": 3
   },
   "file_extension": ".py",
   "mimetype": "text/x-python",
   "name": "python",
   "nbconvert_exporter": "python",
   "pygments_lexer": "ipython3",
   "version": "3.7.7"
  }
 },
 "nbformat": 4,
 "nbformat_minor": 4
}
